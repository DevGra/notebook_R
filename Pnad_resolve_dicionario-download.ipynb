{
 "cells": [
  {
   "cell_type": "code",
   "execution_count": null,
   "metadata": {},
   "outputs": [],
   "source": [
    "install.packages(\"PNADcIBGE\")\n"
   ]
  },
  {
   "cell_type": "code",
   "execution_count": 176,
   "metadata": {},
   "outputs": [],
   "source": [
    "library(PNADcIBGE)"
   ]
  },
  {
   "cell_type": "code",
   "execution_count": 177,
   "metadata": {},
   "outputs": [],
   "source": [
    "year <- 2017\n",
    "interview <- 1"
   ]
  },
  {
   "cell_type": "code",
   "execution_count": 269,
   "metadata": {},
   "outputs": [],
   "source": [
    "dir <- 'C:/Users/cgt/Documents/carlos/Jupyter_notebook_r'"
   ]
  },
  {
   "cell_type": "code",
   "execution_count": 270,
   "metadata": {},
   "outputs": [
    {
     "data": {
      "text/html": [
       "'C:/Users/cgt/Documents/carlos/Jupyter_notebook_r'"
      ],
      "text/latex": [
       "'C:/Users/cgt/Documents/carlos/Jupyter\\_notebook\\_r'"
      ],
      "text/markdown": [
       "'C:/Users/cgt/Documents/carlos/Jupyter_notebook_r'"
      ],
      "text/plain": [
       "[1] \"C:/Users/cgt/Documents/carlos/Jupyter_notebook_r\""
      ]
     },
     "metadata": {},
     "output_type": "display_data"
    }
   ],
   "source": [
    "dir"
   ]
  },
  {
   "cell_type": "code",
   "execution_count": 182,
   "metadata": {},
   "outputs": [],
   "source": [
    "savedir <- paste0(dir, \"/\", \"Pnad\") "
   ]
  },
  {
   "cell_type": "code",
   "execution_count": 183,
   "metadata": {},
   "outputs": [
    {
     "data": {
      "text/html": [
       "'C:/Users/cgt/Documents/carlos/Jupyter_notebook_r'"
      ],
      "text/latex": [
       "'C:/Users/cgt/Documents/carlos/Jupyter\\_notebook\\_r'"
      ],
      "text/markdown": [
       "'C:/Users/cgt/Documents/carlos/Jupyter_notebook_r'"
      ],
      "text/plain": [
       "[1] \"C:/Users/cgt/Documents/carlos/Jupyter_notebook_r\""
      ]
     },
     "metadata": {},
     "output_type": "display_data"
    }
   ],
   "source": [
    "dir"
   ]
  },
  {
   "cell_type": "code",
   "execution_count": 184,
   "metadata": {},
   "outputs": [
    {
     "data": {
      "text/html": [
       "'C:/Users/cgt/Documents/carlos/Jupyter_notebook_r/Pnad'"
      ],
      "text/latex": [
       "'C:/Users/cgt/Documents/carlos/Jupyter\\_notebook\\_r/Pnad'"
      ],
      "text/markdown": [
       "'C:/Users/cgt/Documents/carlos/Jupyter_notebook_r/Pnad'"
      ],
      "text/plain": [
       "[1] \"C:/Users/cgt/Documents/carlos/Jupyter_notebook_r/Pnad\""
      ]
     },
     "metadata": {},
     "output_type": "display_data"
    }
   ],
   "source": [
    "savedir"
   ]
  },
  {
   "cell_type": "code",
   "execution_count": 309,
   "metadata": {},
   "outputs": [],
   "source": [
    "ftpdir <- \"ftp://ftp.ibge.gov.br/Trabalho_e_Rendimento/Pesquisa_Nacional_por_Amostra_de_Domicilios_continua/Anual/Microdados/\""
   ]
  },
  {
   "cell_type": "code",
   "execution_count": 310,
   "metadata": {},
   "outputs": [],
   "source": [
    "ftpdoc <- paste0(ftpdir, \"Documentacao/\")"
   ]
  },
  {
   "cell_type": "code",
   "execution_count": 313,
   "metadata": {},
   "outputs": [
    {
     "data": {
      "text/html": [
       "'ftp://ftp.ibge.gov.br/Trabalho_e_Rendimento/Pesquisa_Nacional_por_Amostra_de_Domicilios_continua/Anual/Microdados/Documentacao/'"
      ],
      "text/latex": [
       "'ftp://ftp.ibge.gov.br/Trabalho\\_e\\_Rendimento/Pesquisa\\_Nacional\\_por\\_Amostra\\_de\\_Domicilios\\_continua/Anual/Microdados/Documentacao/'"
      ],
      "text/markdown": [
       "'ftp://ftp.ibge.gov.br/Trabalho_e_Rendimento/Pesquisa_Nacional_por_Amostra_de_Domicilios_continua/Anual/Microdados/Documentacao/'"
      ],
      "text/plain": [
       "[1] \"ftp://ftp.ibge.gov.br/Trabalho_e_Rendimento/Pesquisa_Nacional_por_Amostra_de_Domicilios_continua/Anual/Microdados/Documentacao/\""
      ]
     },
     "metadata": {},
     "output_type": "display_data"
    }
   ],
   "source": [
    "ftpdoc"
   ]
  },
  {
   "cell_type": "code",
   "execution_count": 311,
   "metadata": {},
   "outputs": [],
   "source": [
    "ftpdata <- paste0(ftpdir, \"Dados/\")"
   ]
  },
  {
   "cell_type": "code",
   "execution_count": 312,
   "metadata": {},
   "outputs": [
    {
     "data": {
      "text/html": [
       "'ftp://ftp.ibge.gov.br/Trabalho_e_Rendimento/Pesquisa_Nacional_por_Amostra_de_Domicilios_continua/Anual/Microdados/Dados/'"
      ],
      "text/latex": [
       "'ftp://ftp.ibge.gov.br/Trabalho\\_e\\_Rendimento/Pesquisa\\_Nacional\\_por\\_Amostra\\_de\\_Domicilios\\_continua/Anual/Microdados/Dados/'"
      ],
      "text/markdown": [
       "'ftp://ftp.ibge.gov.br/Trabalho_e_Rendimento/Pesquisa_Nacional_por_Amostra_de_Domicilios_continua/Anual/Microdados/Dados/'"
      ],
      "text/plain": [
       "[1] \"ftp://ftp.ibge.gov.br/Trabalho_e_Rendimento/Pesquisa_Nacional_por_Amostra_de_Domicilios_continua/Anual/Microdados/Dados/\""
      ]
     },
     "metadata": {},
     "output_type": "display_data"
    }
   ],
   "source": [
    "ftpdata"
   ]
  },
  {
   "cell_type": "code",
   "execution_count": 188,
   "metadata": {},
   "outputs": [],
   "source": [
    "datayear <- unlist(strsplit(gsub(\"\\r\\n\",\"\\n\",RCurl::getURL(ftpdata, dirlistonly = TRUE)),\"\\n\"))"
   ]
  },
  {
   "cell_type": "code",
   "execution_count": 189,
   "metadata": {},
   "outputs": [
    {
     "data": {
      "text/html": [
       "<ol class=list-inline>\n",
       "\t<li>'PNADC_022016_educacao_20191016.zip'</li>\n",
       "\t<li>'PNADC_022017_educacao_20191016.zip'</li>\n",
       "\t<li>'PNADC_022018_educacao_20191016.zip'</li>\n",
       "\t<li>'PNADC_042016_tic_20191016.zip'</li>\n",
       "\t<li>'PNADC_042017_tic_20191016.zip'</li>\n",
       "\t<li>'PNADC_2012_visita1_20191016.zip'</li>\n",
       "\t<li>'PNADC_2013_visita1_20191016.zip'</li>\n",
       "\t<li>'PNADC_2014_visita1_20191016.zip'</li>\n",
       "\t<li>'PNADC_2015_visita1_20191016.zip'</li>\n",
       "\t<li>'PNADC_2016_visita1_20191016.zip'</li>\n",
       "\t<li>'PNADC_2016_visita5_20191016.zip'</li>\n",
       "\t<li>'PNADC_2017_visita1_20191016.zip'</li>\n",
       "\t<li>'PNADC_2017_visita5_20191016.zip'</li>\n",
       "\t<li>'PNADC_2018_visita1_20191016.zip'</li>\n",
       "\t<li>'PNADC_2018_visita5_20191016.zip'</li>\n",
       "</ol>\n"
      ],
      "text/latex": [
       "\\begin{enumerate*}\n",
       "\\item 'PNADC\\_022016\\_educacao\\_20191016.zip'\n",
       "\\item 'PNADC\\_022017\\_educacao\\_20191016.zip'\n",
       "\\item 'PNADC\\_022018\\_educacao\\_20191016.zip'\n",
       "\\item 'PNADC\\_042016\\_tic\\_20191016.zip'\n",
       "\\item 'PNADC\\_042017\\_tic\\_20191016.zip'\n",
       "\\item 'PNADC\\_2012\\_visita1\\_20191016.zip'\n",
       "\\item 'PNADC\\_2013\\_visita1\\_20191016.zip'\n",
       "\\item 'PNADC\\_2014\\_visita1\\_20191016.zip'\n",
       "\\item 'PNADC\\_2015\\_visita1\\_20191016.zip'\n",
       "\\item 'PNADC\\_2016\\_visita1\\_20191016.zip'\n",
       "\\item 'PNADC\\_2016\\_visita5\\_20191016.zip'\n",
       "\\item 'PNADC\\_2017\\_visita1\\_20191016.zip'\n",
       "\\item 'PNADC\\_2017\\_visita5\\_20191016.zip'\n",
       "\\item 'PNADC\\_2018\\_visita1\\_20191016.zip'\n",
       "\\item 'PNADC\\_2018\\_visita5\\_20191016.zip'\n",
       "\\end{enumerate*}\n"
      ],
      "text/markdown": [
       "1. 'PNADC_022016_educacao_20191016.zip'\n",
       "2. 'PNADC_022017_educacao_20191016.zip'\n",
       "3. 'PNADC_022018_educacao_20191016.zip'\n",
       "4. 'PNADC_042016_tic_20191016.zip'\n",
       "5. 'PNADC_042017_tic_20191016.zip'\n",
       "6. 'PNADC_2012_visita1_20191016.zip'\n",
       "7. 'PNADC_2013_visita1_20191016.zip'\n",
       "8. 'PNADC_2014_visita1_20191016.zip'\n",
       "9. 'PNADC_2015_visita1_20191016.zip'\n",
       "10. 'PNADC_2016_visita1_20191016.zip'\n",
       "11. 'PNADC_2016_visita5_20191016.zip'\n",
       "12. 'PNADC_2017_visita1_20191016.zip'\n",
       "13. 'PNADC_2017_visita5_20191016.zip'\n",
       "14. 'PNADC_2018_visita1_20191016.zip'\n",
       "15. 'PNADC_2018_visita5_20191016.zip'\n",
       "\n",
       "\n"
      ],
      "text/plain": [
       " [1] \"PNADC_022016_educacao_20191016.zip\" \"PNADC_022017_educacao_20191016.zip\"\n",
       " [3] \"PNADC_022018_educacao_20191016.zip\" \"PNADC_042016_tic_20191016.zip\"     \n",
       " [5] \"PNADC_042017_tic_20191016.zip\"      \"PNADC_2012_visita1_20191016.zip\"   \n",
       " [7] \"PNADC_2013_visita1_20191016.zip\"    \"PNADC_2014_visita1_20191016.zip\"   \n",
       " [9] \"PNADC_2015_visita1_20191016.zip\"    \"PNADC_2016_visita1_20191016.zip\"   \n",
       "[11] \"PNADC_2016_visita5_20191016.zip\"    \"PNADC_2017_visita1_20191016.zip\"   \n",
       "[13] \"PNADC_2017_visita5_20191016.zip\"    \"PNADC_2018_visita1_20191016.zip\"   \n",
       "[15] \"PNADC_2018_visita5_20191016.zip\"   "
      ]
     },
     "metadata": {},
     "output_type": "display_data"
    }
   ],
   "source": [
    "datayear"
   ]
  },
  {
   "cell_type": "code",
   "execution_count": 190,
   "metadata": {},
   "outputs": [],
   "source": [
    " yrint_list <- regmatches(datayear, gregexpr(\"[[:digit:]]+\", datayear))"
   ]
  },
  {
   "cell_type": "code",
   "execution_count": 191,
   "metadata": {},
   "outputs": [
    {
     "data": {
      "text/html": [
       "<ol>\n",
       "\t<li><ol class=list-inline>\n",
       "\t<li>'022016'</li>\n",
       "\t<li>'20191016'</li>\n",
       "</ol>\n",
       "</li>\n",
       "\t<li><ol class=list-inline>\n",
       "\t<li>'022017'</li>\n",
       "\t<li>'20191016'</li>\n",
       "</ol>\n",
       "</li>\n",
       "\t<li><ol class=list-inline>\n",
       "\t<li>'022018'</li>\n",
       "\t<li>'20191016'</li>\n",
       "</ol>\n",
       "</li>\n",
       "\t<li><ol class=list-inline>\n",
       "\t<li>'042016'</li>\n",
       "\t<li>'20191016'</li>\n",
       "</ol>\n",
       "</li>\n",
       "\t<li><ol class=list-inline>\n",
       "\t<li>'042017'</li>\n",
       "\t<li>'20191016'</li>\n",
       "</ol>\n",
       "</li>\n",
       "\t<li><ol class=list-inline>\n",
       "\t<li>'2012'</li>\n",
       "\t<li>'1'</li>\n",
       "\t<li>'20191016'</li>\n",
       "</ol>\n",
       "</li>\n",
       "\t<li><ol class=list-inline>\n",
       "\t<li>'2013'</li>\n",
       "\t<li>'1'</li>\n",
       "\t<li>'20191016'</li>\n",
       "</ol>\n",
       "</li>\n",
       "\t<li><ol class=list-inline>\n",
       "\t<li>'2014'</li>\n",
       "\t<li>'1'</li>\n",
       "\t<li>'20191016'</li>\n",
       "</ol>\n",
       "</li>\n",
       "\t<li><ol class=list-inline>\n",
       "\t<li>'2015'</li>\n",
       "\t<li>'1'</li>\n",
       "\t<li>'20191016'</li>\n",
       "</ol>\n",
       "</li>\n",
       "\t<li><ol class=list-inline>\n",
       "\t<li>'2016'</li>\n",
       "\t<li>'1'</li>\n",
       "\t<li>'20191016'</li>\n",
       "</ol>\n",
       "</li>\n",
       "\t<li><ol class=list-inline>\n",
       "\t<li>'2016'</li>\n",
       "\t<li>'5'</li>\n",
       "\t<li>'20191016'</li>\n",
       "</ol>\n",
       "</li>\n",
       "\t<li><ol class=list-inline>\n",
       "\t<li>'2017'</li>\n",
       "\t<li>'1'</li>\n",
       "\t<li>'20191016'</li>\n",
       "</ol>\n",
       "</li>\n",
       "\t<li><ol class=list-inline>\n",
       "\t<li>'2017'</li>\n",
       "\t<li>'5'</li>\n",
       "\t<li>'20191016'</li>\n",
       "</ol>\n",
       "</li>\n",
       "\t<li><ol class=list-inline>\n",
       "\t<li>'2018'</li>\n",
       "\t<li>'1'</li>\n",
       "\t<li>'20191016'</li>\n",
       "</ol>\n",
       "</li>\n",
       "\t<li><ol class=list-inline>\n",
       "\t<li>'2018'</li>\n",
       "\t<li>'5'</li>\n",
       "\t<li>'20191016'</li>\n",
       "</ol>\n",
       "</li>\n",
       "</ol>\n"
      ],
      "text/latex": [
       "\\begin{enumerate}\n",
       "\\item \\begin{enumerate*}\n",
       "\\item '022016'\n",
       "\\item '20191016'\n",
       "\\end{enumerate*}\n",
       "\n",
       "\\item \\begin{enumerate*}\n",
       "\\item '022017'\n",
       "\\item '20191016'\n",
       "\\end{enumerate*}\n",
       "\n",
       "\\item \\begin{enumerate*}\n",
       "\\item '022018'\n",
       "\\item '20191016'\n",
       "\\end{enumerate*}\n",
       "\n",
       "\\item \\begin{enumerate*}\n",
       "\\item '042016'\n",
       "\\item '20191016'\n",
       "\\end{enumerate*}\n",
       "\n",
       "\\item \\begin{enumerate*}\n",
       "\\item '042017'\n",
       "\\item '20191016'\n",
       "\\end{enumerate*}\n",
       "\n",
       "\\item \\begin{enumerate*}\n",
       "\\item '2012'\n",
       "\\item '1'\n",
       "\\item '20191016'\n",
       "\\end{enumerate*}\n",
       "\n",
       "\\item \\begin{enumerate*}\n",
       "\\item '2013'\n",
       "\\item '1'\n",
       "\\item '20191016'\n",
       "\\end{enumerate*}\n",
       "\n",
       "\\item \\begin{enumerate*}\n",
       "\\item '2014'\n",
       "\\item '1'\n",
       "\\item '20191016'\n",
       "\\end{enumerate*}\n",
       "\n",
       "\\item \\begin{enumerate*}\n",
       "\\item '2015'\n",
       "\\item '1'\n",
       "\\item '20191016'\n",
       "\\end{enumerate*}\n",
       "\n",
       "\\item \\begin{enumerate*}\n",
       "\\item '2016'\n",
       "\\item '1'\n",
       "\\item '20191016'\n",
       "\\end{enumerate*}\n",
       "\n",
       "\\item \\begin{enumerate*}\n",
       "\\item '2016'\n",
       "\\item '5'\n",
       "\\item '20191016'\n",
       "\\end{enumerate*}\n",
       "\n",
       "\\item \\begin{enumerate*}\n",
       "\\item '2017'\n",
       "\\item '1'\n",
       "\\item '20191016'\n",
       "\\end{enumerate*}\n",
       "\n",
       "\\item \\begin{enumerate*}\n",
       "\\item '2017'\n",
       "\\item '5'\n",
       "\\item '20191016'\n",
       "\\end{enumerate*}\n",
       "\n",
       "\\item \\begin{enumerate*}\n",
       "\\item '2018'\n",
       "\\item '1'\n",
       "\\item '20191016'\n",
       "\\end{enumerate*}\n",
       "\n",
       "\\item \\begin{enumerate*}\n",
       "\\item '2018'\n",
       "\\item '5'\n",
       "\\item '20191016'\n",
       "\\end{enumerate*}\n",
       "\n",
       "\\end{enumerate}\n"
      ],
      "text/markdown": [
       "1. 1. '022016'\n",
       "2. '20191016'\n",
       "\n",
       "\n",
       "\n",
       "2. 1. '022017'\n",
       "2. '20191016'\n",
       "\n",
       "\n",
       "\n",
       "3. 1. '022018'\n",
       "2. '20191016'\n",
       "\n",
       "\n",
       "\n",
       "4. 1. '042016'\n",
       "2. '20191016'\n",
       "\n",
       "\n",
       "\n",
       "5. 1. '042017'\n",
       "2. '20191016'\n",
       "\n",
       "\n",
       "\n",
       "6. 1. '2012'\n",
       "2. '1'\n",
       "3. '20191016'\n",
       "\n",
       "\n",
       "\n",
       "7. 1. '2013'\n",
       "2. '1'\n",
       "3. '20191016'\n",
       "\n",
       "\n",
       "\n",
       "8. 1. '2014'\n",
       "2. '1'\n",
       "3. '20191016'\n",
       "\n",
       "\n",
       "\n",
       "9. 1. '2015'\n",
       "2. '1'\n",
       "3. '20191016'\n",
       "\n",
       "\n",
       "\n",
       "10. 1. '2016'\n",
       "2. '1'\n",
       "3. '20191016'\n",
       "\n",
       "\n",
       "\n",
       "11. 1. '2016'\n",
       "2. '5'\n",
       "3. '20191016'\n",
       "\n",
       "\n",
       "\n",
       "12. 1. '2017'\n",
       "2. '1'\n",
       "3. '20191016'\n",
       "\n",
       "\n",
       "\n",
       "13. 1. '2017'\n",
       "2. '5'\n",
       "3. '20191016'\n",
       "\n",
       "\n",
       "\n",
       "14. 1. '2018'\n",
       "2. '1'\n",
       "3. '20191016'\n",
       "\n",
       "\n",
       "\n",
       "15. 1. '2018'\n",
       "2. '5'\n",
       "3. '20191016'\n",
       "\n",
       "\n",
       "\n",
       "\n",
       "\n"
      ],
      "text/plain": [
       "[[1]]\n",
       "[1] \"022016\"   \"20191016\"\n",
       "\n",
       "[[2]]\n",
       "[1] \"022017\"   \"20191016\"\n",
       "\n",
       "[[3]]\n",
       "[1] \"022018\"   \"20191016\"\n",
       "\n",
       "[[4]]\n",
       "[1] \"042016\"   \"20191016\"\n",
       "\n",
       "[[5]]\n",
       "[1] \"042017\"   \"20191016\"\n",
       "\n",
       "[[6]]\n",
       "[1] \"2012\"     \"1\"        \"20191016\"\n",
       "\n",
       "[[7]]\n",
       "[1] \"2013\"     \"1\"        \"20191016\"\n",
       "\n",
       "[[8]]\n",
       "[1] \"2014\"     \"1\"        \"20191016\"\n",
       "\n",
       "[[9]]\n",
       "[1] \"2015\"     \"1\"        \"20191016\"\n",
       "\n",
       "[[10]]\n",
       "[1] \"2016\"     \"1\"        \"20191016\"\n",
       "\n",
       "[[11]]\n",
       "[1] \"2016\"     \"5\"        \"20191016\"\n",
       "\n",
       "[[12]]\n",
       "[1] \"2017\"     \"1\"        \"20191016\"\n",
       "\n",
       "[[13]]\n",
       "[1] \"2017\"     \"5\"        \"20191016\"\n",
       "\n",
       "[[14]]\n",
       "[1] \"2018\"     \"1\"        \"20191016\"\n",
       "\n",
       "[[15]]\n",
       "[1] \"2018\"     \"5\"        \"20191016\"\n"
      ]
     },
     "metadata": {},
     "output_type": "display_data"
    }
   ],
   "source": [
    "yrint_list"
   ]
  },
  {
   "cell_type": "code",
   "execution_count": 194,
   "metadata": {},
   "outputs": [
    {
     "data": {
      "text/html": [
       "'2017'"
      ],
      "text/latex": [
       "'2017'"
      ],
      "text/markdown": [
       "'2017'"
      ],
      "text/plain": [
       "[1] \"2017\""
      ]
     },
     "metadata": {},
     "output_type": "display_data"
    }
   ],
   "source": [
    "(yrint_list[[13]])[1]"
   ]
  },
  {
   "cell_type": "code",
   "execution_count": 193,
   "metadata": {},
   "outputs": [
    {
     "data": {
      "text/html": [
       "2017"
      ],
      "text/latex": [
       "2017"
      ],
      "text/markdown": [
       "2017"
      ],
      "text/plain": [
       "[1] 2017"
      ]
     },
     "metadata": {},
     "output_type": "display_data"
    }
   ],
   "source": [
    "year"
   ]
  },
  {
   "cell_type": "code",
   "execution_count": 195,
   "metadata": {},
   "outputs": [
    {
     "data": {
      "text/html": [
       "15"
      ],
      "text/latex": [
       "15"
      ],
      "text/markdown": [
       "15"
      ],
      "text/plain": [
       "[1] 15"
      ]
     },
     "metadata": {},
     "output_type": "display_data"
    }
   ],
   "source": [
    "length(datayear)"
   ]
  },
  {
   "cell_type": "code",
   "execution_count": 196,
   "metadata": {},
   "outputs": [],
   "source": [
    "dataname = NULL\n",
    "\n",
    "for (i in 1:length(datayear)) {\n",
    "  if (as.numeric(yrint_list[[i]])[1] == year & as.numeric(yrint_list[[i]])[2] ==\n",
    "      interview) {\n",
    "    dataname = datayear[i]\n",
    "  }\n",
    "}"
   ]
  },
  {
   "cell_type": "code",
   "execution_count": 197,
   "metadata": {},
   "outputs": [
    {
     "data": {
      "text/html": [
       "'PNADC_2017_visita1_20191016.zip'"
      ],
      "text/latex": [
       "'PNADC\\_2017\\_visita1\\_20191016.zip'"
      ],
      "text/markdown": [
       "'PNADC_2017_visita1_20191016.zip'"
      ],
      "text/plain": [
       "[1] \"PNADC_2017_visita1_20191016.zip\""
      ]
     },
     "metadata": {},
     "output_type": "display_data"
    }
   ],
   "source": [
    "dataname"
   ]
  },
  {
   "cell_type": "code",
   "execution_count": 198,
   "metadata": {},
   "outputs": [],
   "source": [
    "if (length(dataname) == 0) {\n",
    "  stop(\"Data unavailable for selected interview/year\")\n",
    "}"
   ]
  },
  {
   "cell_type": "code",
   "execution_count": 199,
   "metadata": {},
   "outputs": [],
   "source": [
    "docfiles <- unlist(strsplit(gsub(\"\\r\\n\",\"\\n\",RCurl::getURL(paste0(ftpdir,\"Documentacao/\"), dirlistonly = TRUE)),\"\\n\"))"
   ]
  },
  {
   "cell_type": "code",
   "execution_count": 200,
   "metadata": {},
   "outputs": [
    {
     "data": {
      "text/html": [
       "<ol class=list-inline>\n",
       "\t<li>'Input_PNADC_1_visita_2012_a_2014_20191016.txt'</li>\n",
       "\t<li>'Input_PNADC_1_visita_2015_20191016.txt'</li>\n",
       "\t<li>'Input_PNADC_1_visita_2016_20191016.txt'</li>\n",
       "\t<li>'Input_PNADC_1_visita_2017_20191016.txt'</li>\n",
       "\t<li>'Input_PNADC_1_visita_2018_20191016.txt'</li>\n",
       "\t<li>'Input_PNADC_5_visita_2016_20191016.txt'</li>\n",
       "\t<li>'Input_PNADC_5_visita_2017_20191016.txt'</li>\n",
       "\t<li>'Input_PNADC_5_visita_2018_20191016.txt'</li>\n",
       "\t<li>'Input_PNADC_trimestral_TIC_20191016.txt'</li>\n",
       "\t<li>'Input_PNADC_trimestral_educacao_20191016.txt'</li>\n",
       "\t<li>'LEIA_ME_20181108.txt'</li>\n",
       "\t<li>'LEIA_ME_deflator.txt'</li>\n",
       "\t<li>'deflator_2017_pnadc.xls'</li>\n",
       "\t<li>'deflator_2018_pnadc.xls'</li>\n",
       "\t<li>'dicionario_PNAD_CONTINUA_MICRODADOS_1_visita_2012_a_2014_20191016.xls'</li>\n",
       "\t<li>'dicionario_PNAD_CONTINUA_MICRODADOS_1_visita_2015_20191016.xls'</li>\n",
       "\t<li>'dicionario_PNAD_CONTINUA_MICRODADOS_1_visita_2016_20191016.xls'</li>\n",
       "\t<li>'dicionario_PNAD_CONTINUA_MICRODADOS_1_visita_2017_20191016.xls'</li>\n",
       "\t<li>'dicionario_PNAD_CONTINUA_MICRODADOS_1_visita_2018_20191016.xls'</li>\n",
       "\t<li>'dicionario_PNAD_CONTINUA_MICRODADOS_5_visita_2016_20191016.xls'</li>\n",
       "\t<li>'dicionario_PNAD_CONTINUA_MICRODADOS_5_visita_2017_20191016.xls'</li>\n",
       "\t<li>'dicionario_PNAD_CONTINUA_MICRODADOS_5_visita_2018_20191016.xls'</li>\n",
       "\t<li>'dicionario_das_variaveis_PNAD_Continua_microdados_TIC_20191016.xls'</li>\n",
       "\t<li>'dicionario_das_variaveis_PNAD_Continua_microdados_educacao_20191016.xls'</li>\n",
       "\t<li>'observacoes_caracteristicas_adicionais_de_mercado_de_trabalho_1a_visita.doc'</li>\n",
       "</ol>\n"
      ],
      "text/latex": [
       "\\begin{enumerate*}\n",
       "\\item 'Input\\_PNADC\\_1\\_visita\\_2012\\_a\\_2014\\_20191016.txt'\n",
       "\\item 'Input\\_PNADC\\_1\\_visita\\_2015\\_20191016.txt'\n",
       "\\item 'Input\\_PNADC\\_1\\_visita\\_2016\\_20191016.txt'\n",
       "\\item 'Input\\_PNADC\\_1\\_visita\\_2017\\_20191016.txt'\n",
       "\\item 'Input\\_PNADC\\_1\\_visita\\_2018\\_20191016.txt'\n",
       "\\item 'Input\\_PNADC\\_5\\_visita\\_2016\\_20191016.txt'\n",
       "\\item 'Input\\_PNADC\\_5\\_visita\\_2017\\_20191016.txt'\n",
       "\\item 'Input\\_PNADC\\_5\\_visita\\_2018\\_20191016.txt'\n",
       "\\item 'Input\\_PNADC\\_trimestral\\_TIC\\_20191016.txt'\n",
       "\\item 'Input\\_PNADC\\_trimestral\\_educacao\\_20191016.txt'\n",
       "\\item 'LEIA\\_ME\\_20181108.txt'\n",
       "\\item 'LEIA\\_ME\\_deflator.txt'\n",
       "\\item 'deflator\\_2017\\_pnadc.xls'\n",
       "\\item 'deflator\\_2018\\_pnadc.xls'\n",
       "\\item 'dicionario\\_PNAD\\_CONTINUA\\_MICRODADOS\\_1\\_visita\\_2012\\_a\\_2014\\_20191016.xls'\n",
       "\\item 'dicionario\\_PNAD\\_CONTINUA\\_MICRODADOS\\_1\\_visita\\_2015\\_20191016.xls'\n",
       "\\item 'dicionario\\_PNAD\\_CONTINUA\\_MICRODADOS\\_1\\_visita\\_2016\\_20191016.xls'\n",
       "\\item 'dicionario\\_PNAD\\_CONTINUA\\_MICRODADOS\\_1\\_visita\\_2017\\_20191016.xls'\n",
       "\\item 'dicionario\\_PNAD\\_CONTINUA\\_MICRODADOS\\_1\\_visita\\_2018\\_20191016.xls'\n",
       "\\item 'dicionario\\_PNAD\\_CONTINUA\\_MICRODADOS\\_5\\_visita\\_2016\\_20191016.xls'\n",
       "\\item 'dicionario\\_PNAD\\_CONTINUA\\_MICRODADOS\\_5\\_visita\\_2017\\_20191016.xls'\n",
       "\\item 'dicionario\\_PNAD\\_CONTINUA\\_MICRODADOS\\_5\\_visita\\_2018\\_20191016.xls'\n",
       "\\item 'dicionario\\_das\\_variaveis\\_PNAD\\_Continua\\_microdados\\_TIC\\_20191016.xls'\n",
       "\\item 'dicionario\\_das\\_variaveis\\_PNAD\\_Continua\\_microdados\\_educacao\\_20191016.xls'\n",
       "\\item 'observacoes\\_caracteristicas\\_adicionais\\_de\\_mercado\\_de\\_trabalho\\_1a\\_visita.doc'\n",
       "\\end{enumerate*}\n"
      ],
      "text/markdown": [
       "1. 'Input_PNADC_1_visita_2012_a_2014_20191016.txt'\n",
       "2. 'Input_PNADC_1_visita_2015_20191016.txt'\n",
       "3. 'Input_PNADC_1_visita_2016_20191016.txt'\n",
       "4. 'Input_PNADC_1_visita_2017_20191016.txt'\n",
       "5. 'Input_PNADC_1_visita_2018_20191016.txt'\n",
       "6. 'Input_PNADC_5_visita_2016_20191016.txt'\n",
       "7. 'Input_PNADC_5_visita_2017_20191016.txt'\n",
       "8. 'Input_PNADC_5_visita_2018_20191016.txt'\n",
       "9. 'Input_PNADC_trimestral_TIC_20191016.txt'\n",
       "10. 'Input_PNADC_trimestral_educacao_20191016.txt'\n",
       "11. 'LEIA_ME_20181108.txt'\n",
       "12. 'LEIA_ME_deflator.txt'\n",
       "13. 'deflator_2017_pnadc.xls'\n",
       "14. 'deflator_2018_pnadc.xls'\n",
       "15. 'dicionario_PNAD_CONTINUA_MICRODADOS_1_visita_2012_a_2014_20191016.xls'\n",
       "16. 'dicionario_PNAD_CONTINUA_MICRODADOS_1_visita_2015_20191016.xls'\n",
       "17. 'dicionario_PNAD_CONTINUA_MICRODADOS_1_visita_2016_20191016.xls'\n",
       "18. 'dicionario_PNAD_CONTINUA_MICRODADOS_1_visita_2017_20191016.xls'\n",
       "19. 'dicionario_PNAD_CONTINUA_MICRODADOS_1_visita_2018_20191016.xls'\n",
       "20. 'dicionario_PNAD_CONTINUA_MICRODADOS_5_visita_2016_20191016.xls'\n",
       "21. 'dicionario_PNAD_CONTINUA_MICRODADOS_5_visita_2017_20191016.xls'\n",
       "22. 'dicionario_PNAD_CONTINUA_MICRODADOS_5_visita_2018_20191016.xls'\n",
       "23. 'dicionario_das_variaveis_PNAD_Continua_microdados_TIC_20191016.xls'\n",
       "24. 'dicionario_das_variaveis_PNAD_Continua_microdados_educacao_20191016.xls'\n",
       "25. 'observacoes_caracteristicas_adicionais_de_mercado_de_trabalho_1a_visita.doc'\n",
       "\n",
       "\n"
      ],
      "text/plain": [
       " [1] \"Input_PNADC_1_visita_2012_a_2014_20191016.txt\"                              \n",
       " [2] \"Input_PNADC_1_visita_2015_20191016.txt\"                                     \n",
       " [3] \"Input_PNADC_1_visita_2016_20191016.txt\"                                     \n",
       " [4] \"Input_PNADC_1_visita_2017_20191016.txt\"                                     \n",
       " [5] \"Input_PNADC_1_visita_2018_20191016.txt\"                                     \n",
       " [6] \"Input_PNADC_5_visita_2016_20191016.txt\"                                     \n",
       " [7] \"Input_PNADC_5_visita_2017_20191016.txt\"                                     \n",
       " [8] \"Input_PNADC_5_visita_2018_20191016.txt\"                                     \n",
       " [9] \"Input_PNADC_trimestral_TIC_20191016.txt\"                                    \n",
       "[10] \"Input_PNADC_trimestral_educacao_20191016.txt\"                               \n",
       "[11] \"LEIA_ME_20181108.txt\"                                                       \n",
       "[12] \"LEIA_ME_deflator.txt\"                                                       \n",
       "[13] \"deflator_2017_pnadc.xls\"                                                    \n",
       "[14] \"deflator_2018_pnadc.xls\"                                                    \n",
       "[15] \"dicionario_PNAD_CONTINUA_MICRODADOS_1_visita_2012_a_2014_20191016.xls\"      \n",
       "[16] \"dicionario_PNAD_CONTINUA_MICRODADOS_1_visita_2015_20191016.xls\"             \n",
       "[17] \"dicionario_PNAD_CONTINUA_MICRODADOS_1_visita_2016_20191016.xls\"             \n",
       "[18] \"dicionario_PNAD_CONTINUA_MICRODADOS_1_visita_2017_20191016.xls\"             \n",
       "[19] \"dicionario_PNAD_CONTINUA_MICRODADOS_1_visita_2018_20191016.xls\"             \n",
       "[20] \"dicionario_PNAD_CONTINUA_MICRODADOS_5_visita_2016_20191016.xls\"             \n",
       "[21] \"dicionario_PNAD_CONTINUA_MICRODADOS_5_visita_2017_20191016.xls\"             \n",
       "[22] \"dicionario_PNAD_CONTINUA_MICRODADOS_5_visita_2018_20191016.xls\"             \n",
       "[23] \"dicionario_das_variaveis_PNAD_Continua_microdados_TIC_20191016.xls\"         \n",
       "[24] \"dicionario_das_variaveis_PNAD_Continua_microdados_educacao_20191016.xls\"    \n",
       "[25] \"observacoes_caracteristicas_adicionais_de_mercado_de_trabalho_1a_visita.doc\""
      ]
     },
     "metadata": {},
     "output_type": "display_data"
    }
   ],
   "source": [
    "docfiles"
   ]
  },
  {
   "cell_type": "code",
   "execution_count": 224,
   "metadata": {},
   "outputs": [],
   "source": [
    "if (year < 2015) {\n",
    "  #input_pre <- paste0(\"Input_PNADC_\", interview, \"entr_2012_a_2014\")\n",
    "  input_pre <- paste0(\"Input_PNADC_\", interview, \"_visita_2012_a_2014\")\n",
    "}else {\n",
    "  #input_pre <- paste0(\"Input_PNADC_\", interview, \"entr_\",year)\n",
    "  input_pre <- paste0(\"Input_PNADC_\", interview, \"_visita_\",year)\n",
    "}\n",
    "input_dic <- paste0(\"dicionario_PNAD_CONTINUA_MICRODADOS_\", interview, \"_visita_\", year) "
   ]
  },
  {
   "cell_type": "code",
   "execution_count": 307,
   "metadata": {},
   "outputs": [
    {
     "data": {
      "text/html": [
       "'dicionario_PNAD_CONTINUA_MICRODADOS_1_visita_2017'"
      ],
      "text/latex": [
       "'dicionario\\_PNAD\\_CONTINUA\\_MICRODADOS\\_1\\_visita\\_2017'"
      ],
      "text/markdown": [
       "'dicionario_PNAD_CONTINUA_MICRODADOS_1_visita_2017'"
      ],
      "text/plain": [
       "[1] \"dicionario_PNAD_CONTINUA_MICRODADOS_1_visita_2017\""
      ]
     },
     "metadata": {},
     "output_type": "display_data"
    }
   ],
   "source": [
    "input_dic"
   ]
  },
  {
   "cell_type": "code",
   "execution_count": 225,
   "metadata": {},
   "outputs": [
    {
     "data": {
      "text/html": [
       "'Input_PNADC_1_visita_2017'"
      ],
      "text/latex": [
       "'Input\\_PNADC\\_1\\_visita\\_2017'"
      ],
      "text/markdown": [
       "'Input_PNADC_1_visita_2017'"
      ],
      "text/plain": [
       "[1] \"Input_PNADC_1_visita_2017\""
      ]
     },
     "metadata": {},
     "output_type": "display_data"
    }
   ],
   "source": [
    "input_pre"
   ]
  },
  {
   "cell_type": "code",
   "execution_count": 203,
   "metadata": {},
   "outputs": [
    {
     "data": {
      "text/html": [
       "<ol class=list-inline>\n",
       "\t<li>'Input_PNADC_1_visita_2012_a_2014_20191016.txt'</li>\n",
       "\t<li>'Input_PNADC_1_visita_2015_20191016.txt'</li>\n",
       "\t<li>'Input_PNADC_1_visita_2016_20191016.txt'</li>\n",
       "\t<li>'Input_PNADC_1_visita_2017_20191016.txt'</li>\n",
       "\t<li>'Input_PNADC_1_visita_2018_20191016.txt'</li>\n",
       "\t<li>'Input_PNADC_5_visita_2016_20191016.txt'</li>\n",
       "\t<li>'Input_PNADC_5_visita_2017_20191016.txt'</li>\n",
       "\t<li>'Input_PNADC_5_visita_2018_20191016.txt'</li>\n",
       "\t<li>'Input_PNADC_trimestral_TIC_20191016.txt'</li>\n",
       "\t<li>'Input_PNADC_trimestral_educacao_20191016.txt'</li>\n",
       "\t<li>'LEIA_ME_20181108.txt'</li>\n",
       "\t<li>'LEIA_ME_deflator.txt'</li>\n",
       "\t<li>'deflator_2017_pnadc.xls'</li>\n",
       "\t<li>'deflator_2018_pnadc.xls'</li>\n",
       "\t<li>'dicionario_PNAD_CONTINUA_MICRODADOS_1_visita_2012_a_2014_20191016.xls'</li>\n",
       "\t<li>'dicionario_PNAD_CONTINUA_MICRODADOS_1_visita_2015_20191016.xls'</li>\n",
       "\t<li>'dicionario_PNAD_CONTINUA_MICRODADOS_1_visita_2016_20191016.xls'</li>\n",
       "\t<li>'dicionario_PNAD_CONTINUA_MICRODADOS_1_visita_2017_20191016.xls'</li>\n",
       "\t<li>'dicionario_PNAD_CONTINUA_MICRODADOS_1_visita_2018_20191016.xls'</li>\n",
       "\t<li>'dicionario_PNAD_CONTINUA_MICRODADOS_5_visita_2016_20191016.xls'</li>\n",
       "\t<li>'dicionario_PNAD_CONTINUA_MICRODADOS_5_visita_2017_20191016.xls'</li>\n",
       "\t<li>'dicionario_PNAD_CONTINUA_MICRODADOS_5_visita_2018_20191016.xls'</li>\n",
       "\t<li>'dicionario_das_variaveis_PNAD_Continua_microdados_TIC_20191016.xls'</li>\n",
       "\t<li>'dicionario_das_variaveis_PNAD_Continua_microdados_educacao_20191016.xls'</li>\n",
       "\t<li>'observacoes_caracteristicas_adicionais_de_mercado_de_trabalho_1a_visita.doc'</li>\n",
       "</ol>\n"
      ],
      "text/latex": [
       "\\begin{enumerate*}\n",
       "\\item 'Input\\_PNADC\\_1\\_visita\\_2012\\_a\\_2014\\_20191016.txt'\n",
       "\\item 'Input\\_PNADC\\_1\\_visita\\_2015\\_20191016.txt'\n",
       "\\item 'Input\\_PNADC\\_1\\_visita\\_2016\\_20191016.txt'\n",
       "\\item 'Input\\_PNADC\\_1\\_visita\\_2017\\_20191016.txt'\n",
       "\\item 'Input\\_PNADC\\_1\\_visita\\_2018\\_20191016.txt'\n",
       "\\item 'Input\\_PNADC\\_5\\_visita\\_2016\\_20191016.txt'\n",
       "\\item 'Input\\_PNADC\\_5\\_visita\\_2017\\_20191016.txt'\n",
       "\\item 'Input\\_PNADC\\_5\\_visita\\_2018\\_20191016.txt'\n",
       "\\item 'Input\\_PNADC\\_trimestral\\_TIC\\_20191016.txt'\n",
       "\\item 'Input\\_PNADC\\_trimestral\\_educacao\\_20191016.txt'\n",
       "\\item 'LEIA\\_ME\\_20181108.txt'\n",
       "\\item 'LEIA\\_ME\\_deflator.txt'\n",
       "\\item 'deflator\\_2017\\_pnadc.xls'\n",
       "\\item 'deflator\\_2018\\_pnadc.xls'\n",
       "\\item 'dicionario\\_PNAD\\_CONTINUA\\_MICRODADOS\\_1\\_visita\\_2012\\_a\\_2014\\_20191016.xls'\n",
       "\\item 'dicionario\\_PNAD\\_CONTINUA\\_MICRODADOS\\_1\\_visita\\_2015\\_20191016.xls'\n",
       "\\item 'dicionario\\_PNAD\\_CONTINUA\\_MICRODADOS\\_1\\_visita\\_2016\\_20191016.xls'\n",
       "\\item 'dicionario\\_PNAD\\_CONTINUA\\_MICRODADOS\\_1\\_visita\\_2017\\_20191016.xls'\n",
       "\\item 'dicionario\\_PNAD\\_CONTINUA\\_MICRODADOS\\_1\\_visita\\_2018\\_20191016.xls'\n",
       "\\item 'dicionario\\_PNAD\\_CONTINUA\\_MICRODADOS\\_5\\_visita\\_2016\\_20191016.xls'\n",
       "\\item 'dicionario\\_PNAD\\_CONTINUA\\_MICRODADOS\\_5\\_visita\\_2017\\_20191016.xls'\n",
       "\\item 'dicionario\\_PNAD\\_CONTINUA\\_MICRODADOS\\_5\\_visita\\_2018\\_20191016.xls'\n",
       "\\item 'dicionario\\_das\\_variaveis\\_PNAD\\_Continua\\_microdados\\_TIC\\_20191016.xls'\n",
       "\\item 'dicionario\\_das\\_variaveis\\_PNAD\\_Continua\\_microdados\\_educacao\\_20191016.xls'\n",
       "\\item 'observacoes\\_caracteristicas\\_adicionais\\_de\\_mercado\\_de\\_trabalho\\_1a\\_visita.doc'\n",
       "\\end{enumerate*}\n"
      ],
      "text/markdown": [
       "1. 'Input_PNADC_1_visita_2012_a_2014_20191016.txt'\n",
       "2. 'Input_PNADC_1_visita_2015_20191016.txt'\n",
       "3. 'Input_PNADC_1_visita_2016_20191016.txt'\n",
       "4. 'Input_PNADC_1_visita_2017_20191016.txt'\n",
       "5. 'Input_PNADC_1_visita_2018_20191016.txt'\n",
       "6. 'Input_PNADC_5_visita_2016_20191016.txt'\n",
       "7. 'Input_PNADC_5_visita_2017_20191016.txt'\n",
       "8. 'Input_PNADC_5_visita_2018_20191016.txt'\n",
       "9. 'Input_PNADC_trimestral_TIC_20191016.txt'\n",
       "10. 'Input_PNADC_trimestral_educacao_20191016.txt'\n",
       "11. 'LEIA_ME_20181108.txt'\n",
       "12. 'LEIA_ME_deflator.txt'\n",
       "13. 'deflator_2017_pnadc.xls'\n",
       "14. 'deflator_2018_pnadc.xls'\n",
       "15. 'dicionario_PNAD_CONTINUA_MICRODADOS_1_visita_2012_a_2014_20191016.xls'\n",
       "16. 'dicionario_PNAD_CONTINUA_MICRODADOS_1_visita_2015_20191016.xls'\n",
       "17. 'dicionario_PNAD_CONTINUA_MICRODADOS_1_visita_2016_20191016.xls'\n",
       "18. 'dicionario_PNAD_CONTINUA_MICRODADOS_1_visita_2017_20191016.xls'\n",
       "19. 'dicionario_PNAD_CONTINUA_MICRODADOS_1_visita_2018_20191016.xls'\n",
       "20. 'dicionario_PNAD_CONTINUA_MICRODADOS_5_visita_2016_20191016.xls'\n",
       "21. 'dicionario_PNAD_CONTINUA_MICRODADOS_5_visita_2017_20191016.xls'\n",
       "22. 'dicionario_PNAD_CONTINUA_MICRODADOS_5_visita_2018_20191016.xls'\n",
       "23. 'dicionario_das_variaveis_PNAD_Continua_microdados_TIC_20191016.xls'\n",
       "24. 'dicionario_das_variaveis_PNAD_Continua_microdados_educacao_20191016.xls'\n",
       "25. 'observacoes_caracteristicas_adicionais_de_mercado_de_trabalho_1a_visita.doc'\n",
       "\n",
       "\n"
      ],
      "text/plain": [
       " [1] \"Input_PNADC_1_visita_2012_a_2014_20191016.txt\"                              \n",
       " [2] \"Input_PNADC_1_visita_2015_20191016.txt\"                                     \n",
       " [3] \"Input_PNADC_1_visita_2016_20191016.txt\"                                     \n",
       " [4] \"Input_PNADC_1_visita_2017_20191016.txt\"                                     \n",
       " [5] \"Input_PNADC_1_visita_2018_20191016.txt\"                                     \n",
       " [6] \"Input_PNADC_5_visita_2016_20191016.txt\"                                     \n",
       " [7] \"Input_PNADC_5_visita_2017_20191016.txt\"                                     \n",
       " [8] \"Input_PNADC_5_visita_2018_20191016.txt\"                                     \n",
       " [9] \"Input_PNADC_trimestral_TIC_20191016.txt\"                                    \n",
       "[10] \"Input_PNADC_trimestral_educacao_20191016.txt\"                               \n",
       "[11] \"LEIA_ME_20181108.txt\"                                                       \n",
       "[12] \"LEIA_ME_deflator.txt\"                                                       \n",
       "[13] \"deflator_2017_pnadc.xls\"                                                    \n",
       "[14] \"deflator_2018_pnadc.xls\"                                                    \n",
       "[15] \"dicionario_PNAD_CONTINUA_MICRODADOS_1_visita_2012_a_2014_20191016.xls\"      \n",
       "[16] \"dicionario_PNAD_CONTINUA_MICRODADOS_1_visita_2015_20191016.xls\"             \n",
       "[17] \"dicionario_PNAD_CONTINUA_MICRODADOS_1_visita_2016_20191016.xls\"             \n",
       "[18] \"dicionario_PNAD_CONTINUA_MICRODADOS_1_visita_2017_20191016.xls\"             \n",
       "[19] \"dicionario_PNAD_CONTINUA_MICRODADOS_1_visita_2018_20191016.xls\"             \n",
       "[20] \"dicionario_PNAD_CONTINUA_MICRODADOS_5_visita_2016_20191016.xls\"             \n",
       "[21] \"dicionario_PNAD_CONTINUA_MICRODADOS_5_visita_2017_20191016.xls\"             \n",
       "[22] \"dicionario_PNAD_CONTINUA_MICRODADOS_5_visita_2018_20191016.xls\"             \n",
       "[23] \"dicionario_das_variaveis_PNAD_Continua_microdados_TIC_20191016.xls\"         \n",
       "[24] \"dicionario_das_variaveis_PNAD_Continua_microdados_educacao_20191016.xls\"    \n",
       "[25] \"observacoes_caracteristicas_adicionais_de_mercado_de_trabalho_1a_visita.doc\""
      ]
     },
     "metadata": {},
     "output_type": "display_data"
    }
   ],
   "source": [
    "docfiles"
   ]
  },
  {
   "cell_type": "code",
   "execution_count": 227,
   "metadata": {},
   "outputs": [],
   "source": [
    "input_txt = docfiles[which(startsWith(docfiles, input_pre))] # procura o arquivo input_pre dentro de docfiles"
   ]
  },
  {
   "cell_type": "code",
   "execution_count": 292,
   "metadata": {},
   "outputs": [],
   "source": [
    "input_dict = docfiles[which(startsWith(docfiles, input_dic))] # procura o arquivo input_dic dentro de docfiles"
   ]
  },
  {
   "cell_type": "code",
   "execution_count": 293,
   "metadata": {},
   "outputs": [
    {
     "data": {
      "text/html": [
       "'dicionario_PNAD_CONTINUA_MICRODADOS_1_visita_2017_20191016.xls'"
      ],
      "text/latex": [
       "'dicionario\\_PNAD\\_CONTINUA\\_MICRODADOS\\_1\\_visita\\_2017\\_20191016.xls'"
      ],
      "text/markdown": [
       "'dicionario_PNAD_CONTINUA_MICRODADOS_1_visita_2017_20191016.xls'"
      ],
      "text/plain": [
       "[1] \"dicionario_PNAD_CONTINUA_MICRODADOS_1_visita_2017_20191016.xls\""
      ]
     },
     "metadata": {},
     "output_type": "display_data"
    }
   ],
   "source": [
    "input_dict"
   ]
  },
  {
   "cell_type": "code",
   "execution_count": 228,
   "metadata": {},
   "outputs": [
    {
     "data": {
      "text/html": [
       "'Input_PNADC_1_visita_2017_20191016.txt'"
      ],
      "text/latex": [
       "'Input\\_PNADC\\_1\\_visita\\_2017\\_20191016.txt'"
      ],
      "text/markdown": [
       "'Input_PNADC_1_visita_2017_20191016.txt'"
      ],
      "text/plain": [
       "[1] \"Input_PNADC_1_visita_2017_20191016.txt\""
      ]
     },
     "metadata": {},
     "output_type": "display_data"
    }
   ],
   "source": [
    "input_txt"
   ]
  },
  {
   "cell_type": "code",
   "execution_count": 230,
   "metadata": {},
   "outputs": [
    {
     "data": {
      "text/html": [
       "'ftp://ftp.ibge.gov.br/Trabalho_e_Rendimento/Pesquisa_Nacional_por_Amostra_de_Domicilios_continua/Anual/Microdados/Dados/PNADC_2017_visita1_20191016.zip'"
      ],
      "text/latex": [
       "'ftp://ftp.ibge.gov.br/Trabalho\\_e\\_Rendimento/Pesquisa\\_Nacional\\_por\\_Amostra\\_de\\_Domicilios\\_continua/Anual/Microdados/Dados/PNADC\\_2017\\_visita1\\_20191016.zip'"
      ],
      "text/markdown": [
       "'ftp://ftp.ibge.gov.br/Trabalho_e_Rendimento/Pesquisa_Nacional_por_Amostra_de_Domicilios_continua/Anual/Microdados/Dados/PNADC_2017_visita1_20191016.zip'"
      ],
      "text/plain": [
       "[1] \"ftp://ftp.ibge.gov.br/Trabalho_e_Rendimento/Pesquisa_Nacional_por_Amostra_de_Domicilios_continua/Anual/Microdados/Dados/PNADC_2017_visita1_20191016.zip\""
      ]
     },
     "metadata": {},
     "output_type": "display_data"
    }
   ],
   "source": [
    "paste0(ftpdata, dataname)"
   ]
  },
  {
   "cell_type": "code",
   "execution_count": 232,
   "metadata": {},
   "outputs": [],
   "source": [
    "utils::download.file(paste0(ftpdata, dataname), paste0(savedir,\"/\", dataname)) # download dados"
   ]
  },
  {
   "cell_type": "code",
   "execution_count": 235,
   "metadata": {
    "scrolled": true
   },
   "outputs": [],
   "source": [
    "utils::download.file(paste0(ftpdoc,input_txt), paste0(savedir, \"/\", input_txt))"
   ]
  },
  {
   "cell_type": "code",
   "execution_count": 317,
   "metadata": {
    "scrolled": true
   },
   "outputs": [
    {
     "ename": "ERROR",
     "evalue": "Error: 'download' is not an exported object from 'namespace:utils'\n",
     "output_type": "error",
     "traceback": [
      "Error: 'download' is not an exported object from 'namespace:utils'\nTraceback:\n",
      "1. utils::download",
      "2. getExportedValue(pkg, name)",
      "3. stop(gettextf(\"'%s' is not an exported object from 'namespace:%s'\", \n .     name, getNamespaceName(ns)), call. = FALSE, domain = NA)"
     ]
    }
   ],
   "source": [
    "utils::download.file(paste0(ftpdoc,input_dict), paste0(savedir, \"/\", input_dict))"
   ]
  },
  {
   "cell_type": "code",
   "execution_count": 236,
   "metadata": {},
   "outputs": [],
   "source": [
    "utils::unzip(paste0(savedir, \"/\", dataname), exdir = savedir)"
   ]
  },
  {
   "cell_type": "code",
   "execution_count": 237,
   "metadata": {},
   "outputs": [],
   "source": [
    "microdataname <- paste0(savedir, \"/\", dataname)"
   ]
  },
  {
   "cell_type": "code",
   "execution_count": 238,
   "metadata": {},
   "outputs": [
    {
     "data": {
      "text/html": [
       "'C:/Users/cgt/Documents/carlos/Jupyter_notebook_r/Pnad/PNADC_2017_visita1_20191016.zip'"
      ],
      "text/latex": [
       "'C:/Users/cgt/Documents/carlos/Jupyter\\_notebook\\_r/Pnad/PNADC\\_2017\\_visita1\\_20191016.zip'"
      ],
      "text/markdown": [
       "'C:/Users/cgt/Documents/carlos/Jupyter_notebook_r/Pnad/PNADC_2017_visita1_20191016.zip'"
      ],
      "text/plain": [
       "[1] \"C:/Users/cgt/Documents/carlos/Jupyter_notebook_r/Pnad/PNADC_2017_visita1_20191016.zip\""
      ]
     },
     "metadata": {},
     "output_type": "display_data"
    }
   ],
   "source": [
    "microdataname"
   ]
  },
  {
   "cell_type": "code",
   "execution_count": 243,
   "metadata": {
    "scrolled": true
   },
   "outputs": [],
   "source": [
    "#dados <- read_pnadc(microdataname, paste0(savedir,\"/\", input_txt))"
   ]
  },
  {
   "cell_type": "code",
   "execution_count": null,
   "metadata": {},
   "outputs": [],
   "source": [
    "### ---------------  exportando dados a serem usados em pnad_resolver_dicionario_read em RDS ---------------------"
   ]
  },
  {
   "cell_type": "code",
   "execution_count": 283,
   "metadata": {},
   "outputs": [
    {
     "data": {
      "text/html": [
       "'C:/Users/cgt/Documents/carlos/Jupyter_notebook_r/Pnad'"
      ],
      "text/latex": [
       "'C:/Users/cgt/Documents/carlos/Jupyter\\_notebook\\_r/Pnad'"
      ],
      "text/markdown": [
       "'C:/Users/cgt/Documents/carlos/Jupyter_notebook_r/Pnad'"
      ],
      "text/plain": [
       "[1] \"C:/Users/cgt/Documents/carlos/Jupyter_notebook_r/Pnad\""
      ]
     },
     "metadata": {},
     "output_type": "display_data"
    }
   ],
   "source": [
    "getwd()"
   ]
  },
  {
   "cell_type": "code",
   "execution_count": 282,
   "metadata": {},
   "outputs": [],
   "source": [
    "setwd(\"C:/Users/cgt/Documents/carlos/Jupyter_notebook_r/Pnad\")"
   ]
  },
  {
   "cell_type": "code",
   "execution_count": 285,
   "metadata": {},
   "outputs": [],
   "source": [
    "saveRDS(microdataname, \"microdataname.rds\") "
   ]
  },
  {
   "cell_type": "code",
   "execution_count": 287,
   "metadata": {},
   "outputs": [],
   "source": [
    "saveRDS(input_txt, \"inputtxt.rds\")"
   ]
  },
  {
   "cell_type": "code",
   "execution_count": null,
   "metadata": {},
   "outputs": [],
   "source": [
    "y <- readRDS(\"x.rds\")  # ler rds"
   ]
  },
  {
   "cell_type": "code",
   "execution_count": null,
   "metadata": {},
   "outputs": [],
   "source": [
    "## ------------------- fim RDS ---------------------"
   ]
  },
  {
   "cell_type": "code",
   "execution_count": null,
   "metadata": {},
   "outputs": [],
   "source": []
  },
  {
   "cell_type": "code",
   "execution_count": null,
   "metadata": {},
   "outputs": [],
   "source": [
    "#### ------------ exportando de Json -----------------------------"
   ]
  },
  {
   "cell_type": "code",
   "execution_count": null,
   "metadata": {},
   "outputs": [],
   "source": [
    "library(jsonlibte)"
   ]
  },
  {
   "cell_type": "code",
   "execution_count": null,
   "metadata": {},
   "outputs": [],
   "source": [
    "write(toJSON(dados), file = \"dados.json\") # arquivo muito grande - 721mb"
   ]
  },
  {
   "cell_type": "code",
   "execution_count": null,
   "metadata": {},
   "outputs": [],
   "source": [
    "x <- fromJSON(txt = \"x.json\")  # ler Json"
   ]
  },
  {
   "cell_type": "code",
   "execution_count": null,
   "metadata": {},
   "outputs": [],
   "source": [
    "##### ------------ fim Json ---------------------------------------"
   ]
  }
 ],
 "metadata": {
  "kernelspec": {
   "display_name": "R",
   "language": "R",
   "name": "ir"
  },
  "language_info": {
   "codemirror_mode": "r",
   "file_extension": ".r",
   "mimetype": "text/x-r-source",
   "name": "R",
   "pygments_lexer": "r",
   "version": "3.6.0"
  }
 },
 "nbformat": 4,
 "nbformat_minor": 2
}
