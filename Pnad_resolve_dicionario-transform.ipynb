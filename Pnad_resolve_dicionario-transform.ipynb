{
 "cells": [
  {
   "cell_type": "code",
   "execution_count": 39,
   "metadata": {},
   "outputs": [],
   "source": [
    "library(PNADcIBGE)\n",
    "library(readxl)"
   ]
  },
  {
   "cell_type": "code",
   "execution_count": 34,
   "metadata": {},
   "outputs": [],
   "source": [
    "dir <- 'C:/Users/cgt/Documents/carlos/Jupyter_notebook_r'"
   ]
  },
  {
   "cell_type": "code",
   "execution_count": 35,
   "metadata": {},
   "outputs": [],
   "source": [
    "savedir <- paste0(dir, \"/\", \"Pnad\") "
   ]
  },
  {
   "cell_type": "code",
   "execution_count": 36,
   "metadata": {},
   "outputs": [
    {
     "data": {
      "text/html": [
       "'C:/Users/cgt/Documents/carlos/Jupyter_notebook_r/Pnad'"
      ],
      "text/latex": [
       "'C:/Users/cgt/Documents/carlos/Jupyter\\_notebook\\_r/Pnad'"
      ],
      "text/markdown": [
       "'C:/Users/cgt/Documents/carlos/Jupyter_notebook_r/Pnad'"
      ],
      "text/plain": [
       "[1] \"C:/Users/cgt/Documents/carlos/Jupyter_notebook_r/Pnad\""
      ]
     },
     "metadata": {},
     "output_type": "display_data"
    }
   ],
   "source": [
    "savedir"
   ]
  },
  {
   "cell_type": "code",
   "execution_count": 40,
   "metadata": {},
   "outputs": [
    {
     "ename": "ERROR",
     "evalue": "Error: \n  filepath: C:\\Users\\cgt\\Documents\\carlos\\Jupyter_notebook_r\\Pnad\\dicionario_PNAD_CONTINUA_MICRODADOS_1_visita_2017_20191016.xls\n  libxls error: Unable to open file\n",
     "output_type": "error",
     "traceback": [
      "Error: \n  filepath: C:\\Users\\cgt\\Documents\\carlos\\Jupyter_notebook_r\\Pnad\\dicionario_PNAD_CONTINUA_MICRODADOS_1_visita_2017_20191016.xls\n  libxls error: Unable to open file\nTraceback:\n",
      "1. readxl::read_excel(\"dicionario_PNAD_CONTINUA_MICRODADOS_1_visita_2017_20191016.xls\")",
      "2. read_excel_(path = path, sheet = sheet, range = range, col_names = col_names, \n .     col_types = col_types, na = na, trim_ws = trim_ws, skip = skip, \n .     n_max = n_max, guess_max = guess_max, progress = progress, \n .     .name_repair = .name_repair, format = format)",
      "3. set_readxl_names(read_fun(path = enc2native(normalizePath(path)), \n .     sheet_i = sheet, limits = limits, shim = shim, col_names = col_names, \n .     col_types = col_types, na = na, trim_ws = trim_ws, guess_max = guess_max, \n .     progress = progress), .name_repair = .name_repair)",
      "4. tibble::as_tibble(l, .name_repair = .name_repair)",
      "5. read_fun(path = enc2native(normalizePath(path)), sheet_i = sheet, \n .     limits = limits, shim = shim, col_names = col_names, col_types = col_types, \n .     na = na, trim_ws = trim_ws, guess_max = guess_max, progress = progress)"
     ]
    }
   ],
   "source": [
    "dictionary <- readxl::read_excel(\"dicionario_PNAD_CONTINUA_MICRODADOS_1_visita_2017_20191016.xls\")"
   ]
  },
  {
   "cell_type": "code",
   "execution_count": null,
   "metadata": {},
   "outputs": [],
   "source": []
  }
 ],
 "metadata": {
  "kernelspec": {
   "display_name": "R",
   "language": "R",
   "name": "ir"
  },
  "language_info": {
   "codemirror_mode": "r",
   "file_extension": ".r",
   "mimetype": "text/x-r-source",
   "name": "R",
   "pygments_lexer": "r",
   "version": "3.6.0"
  }
 },
 "nbformat": 4,
 "nbformat_minor": 2
}
