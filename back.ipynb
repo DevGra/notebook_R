{
 "cells": [
  {
   "cell_type": "code",
   "execution_count": 480,
   "metadata": {},
   "outputs": [],
   "source": [
    "#!/usr/bin/env python\n",
    "# -*- coding: utf-8 -*-\n",
    "import pandas as pd\n",
    "import os\n",
    "import codecs\n",
    "from sets import Set\n",
    "import csv\n",
    "import sys\n",
    "import commands\n",
    "import datetime\n"
   ]
  },
  {
   "cell_type": "code",
   "execution_count": 481,
   "metadata": {},
   "outputs": [],
   "source": [
    "#------------------------------ DISCENTES---------------------------------------------------------------------------"
   ]
  },
  {
   "cell_type": "code",
   "execution_count": 482,
   "metadata": {},
   "outputs": [
    {
     "name": "stdout",
     "output_type": "stream",
     "text": [
      "Lendo os arquivos CAPES Discentes......\n",
      "Discentes_2013_2015.csv\n",
      "Lendo o arquivo Discentes_2013_2015.csv.......com o total de 956091 linhas.\n",
      "Discentes_2016_2017.csv\n",
      "Lendo o arquivo Discentes_2016_2017.csv.......com o total de 732821 linhas.\n"
     ]
    }
   ],
   "source": [
    "\n",
    "var_dis = '/var/tmp/solr_front/collections/capes/discentes/download/'\n",
    "df_auxiliar = []\n",
    "\n",
    "print 'Lendo os arquivos CAPES Discentes......'\n",
    "for root, dirs, files in os.walk(var_dis):\n",
    "    for file in files:\n",
    "        print file\n",
    "        arquivo = codecs.open(os.path.join(root, file), 'r')  # , encoding='latin-1')\n",
    "        input_lenght = int(commands.getstatusoutput('cat ' + os.path.join(root, file) + ' |wc -l ')[1])\n",
    "        print('Lendo o arquivo {}.......com o total de {} linhas.'.format(file, input_lenght - 1))\n",
    "        df_auxiliar.append(pd.read_csv(arquivo, sep=';', low_memory=False, encoding='cp1252'))\n",
    "        #df_auxiliar = pd.read_csv(arquivo, sep=';', nrows=10000, chunksize=1000, encoding='cp1252', low_memory=False)\n",
    "\n",
    "df_discentes = pd.concat(df_auxiliar, sort=True)\n",
    "\n"
   ]
  },
  {
   "cell_type": "code",
   "execution_count": 428,
   "metadata": {},
   "outputs": [
    {
     "data": {
      "text/plain": [
       "AN_BASE                           1688912\n",
       "CD_AREA_AVALIACAO                 1688912\n",
       "CD_CONCEITO_CURSO                 1688912\n",
       "CD_CONCEITO_PROGRAMA              1688912\n",
       "CD_PROGRAMA_IES                   1688912\n",
       "CS_STATUS_JURIDICO                1688912\n",
       "DS_DEPENDENCIA_ADMINISTRATIVA     1688912\n",
       "DS_FAIXA_ETARIA                   1688912\n",
       "DS_GRAU_ACADEMICO_DISCENTE        1688912\n",
       "DS_TIPO_NACIONALIDADE_DISCENTE    1688912\n",
       "DT_MATRICULA_DISCENTE             1688912\n",
       "DT_SITUACAO_DISCENTE              1688912\n",
       "ID_ADD_FOTO_PROGRAMA              1688912\n",
       "ID_ADD_FOTO_PROGRAMA_IES          1688912\n",
       "ID_PESSOA                         1688912\n",
       "NM_AREA_AVALIACAO                 1688912\n",
       "NM_DISCENTE                       1688912\n",
       "NM_ENTIDADE_ENSINO                1688912\n",
       "NM_GRANDE_AREA_CONHECIMENTO       1688912\n",
       "NM_GRAU_PROGRAMA                  1688912\n",
       "NM_MODALIDADE_PROGRAMA            1688912\n",
       "NM_MUNICIPIO_PROGRAMA_IES         1688912\n",
       "NM_ORIENTADOR                     1688912\n",
       "NM_PAIS_NACIONALIDADE_DISCENTE    1688912\n",
       "NM_PROGRAMA_IES                   1688912\n",
       "NM_REGIAO                         1688912\n",
       "NM_SITUACAO_DISCENTE              1688912\n",
       "NM_TESE_DISSERTACAO               1688912\n",
       "NR_DOCUMENTO_DISCENTE             1688912\n",
       "QT_MES_TITULACAO                  1688912\n",
       "SG_ENTIDADE_ENSINO                1688912\n",
       "SG_UF_PROGRAMA                    1688912\n",
       "ST_INGRESSANTE                    1688912\n",
       "TP_DOCUMENTO_DISCENTE             1688912\n",
       "TP_SEXO_DISCENTE                  1688912\n",
       "dtype: int64"
      ]
     },
     "execution_count": 428,
     "metadata": {},
     "output_type": "execute_result"
    }
   ],
   "source": [
    "df_discentes.count()"
   ]
  },
  {
   "cell_type": "code",
   "execution_count": 429,
   "metadata": {},
   "outputs": [],
   "source": [
    "#----------- RENOMEAR NM_ENTIDADE_ENSINO DA FIOCRUZ PARA FUNDACAO OSWALDO CRUZ (FIOCRUZ)  ----------------"
   ]
  },
  {
   "cell_type": "code",
   "execution_count": 483,
   "metadata": {},
   "outputs": [],
   "source": [
    "df_discentes.replace('FUNDACAO OSWALDO CRUZ', 'FUNDACAO OSWALDO CRUZ (FIOCRUZ)', inplace=True)"
   ]
  },
  {
   "cell_type": "code",
   "execution_count": 484,
   "metadata": {},
   "outputs": [],
   "source": [
    "# -------- ADICIONANDO OS CAMPOS AO DF_DISCENTES PARA FAZER O MERGE COM CADASTRO DE IES -------------"
   ]
  },
  {
   "cell_type": "code",
   "execution_count": 485,
   "metadata": {},
   "outputs": [],
   "source": [
    "df_discentes['SG_ENTIDADE_ENSINO_Capes'] = df_discentes['SG_ENTIDADE_ENSINO']\n",
    "df_discentes['NM_ENTIDADE_ENSINO_Capes'] = df_discentes['NM_ENTIDADE_ENSINO']"
   ]
  },
  {
   "cell_type": "code",
   "execution_count": 407,
   "metadata": {},
   "outputs": [],
   "source": [
    "# ---------------------------   PROGRAMAS ---------------------------------------------------------------"
   ]
  },
  {
   "cell_type": "code",
   "execution_count": 486,
   "metadata": {},
   "outputs": [
    {
     "name": "stdout",
     "output_type": "stream",
     "text": [
      "Lendo os arquivos do CAPES programas....\n",
      "2014.csv\n",
      "Arquivo de entrada possui 3765 linhas de informacao\n",
      "2013.csv\n",
      "Arquivo de entrada possui 3568 linhas de informacao\n",
      "2015.csv\n",
      "Arquivo de entrada possui 3946 linhas de informacao\n",
      "2016.csv\n",
      "Arquivo de entrada possui 4186 linhas de informacao\n",
      "2017.csv\n",
      "Arquivo de entrada possui 4345 linhas de informacao\n"
     ]
    }
   ],
   "source": [
    "var_prog = '/var/tmp/solr_front/collections/capes/programas/download/'\n",
    "df_aux = []\n",
    "print 'Lendo os arquivos do CAPES programas....'\n",
    "for root, dirs, files in os.walk(var_prog):\n",
    "\n",
    "    for file in files:\n",
    "        print file\n",
    "        arquivo = codecs.open(os.path.join(root, file), 'r')  # , encoding='latin-1')\n",
    "        input_lenght = int(commands.getstatusoutput('cat ' + os.path.join(root, file) + ' |wc -l ')[1])\n",
    "        print 'Arquivo de entrada possui {} linhas de informacao'.format(int(input_lenght) - 1)\n",
    "        df_aux.append(pd.read_csv(arquivo, sep=';', low_memory=False, encoding='cp1252'))\n",
    "        #df_auxiliar = pd.read_csv(arquivo, sep=';', nrows=10000, chunksize=1000, encoding='cp1252', low_memory=False)\n",
    "\n",
    "df_programas = pd.concat(df_aux, sort=True)"
   ]
  },
  {
   "cell_type": "code",
   "execution_count": 487,
   "metadata": {},
   "outputs": [],
   "source": [
    "# drop de algumas colunas de programas que geram duplicidade com discentes no momento do merge"
   ]
  },
  {
   "cell_type": "code",
   "execution_count": 488,
   "metadata": {},
   "outputs": [],
   "source": [
    "\n",
    "df_programas = df_programas.drop(['NM_GRANDE_AREA_CONHECIMENTO','CD_AREA_AVALIACAO',\n",
    "'NM_AREA_AVALIACAO', 'SG_ENTIDADE_ENSINO', 'NM_ENTIDADE_ENSINO', 'CS_STATUS_JURIDICO',\n",
    "'DS_DEPENDENCIA_ADMINISTRATIVA','NM_REGIAO', 'NM_MUNICIPIO_PROGRAMA_IES', 'NM_MODALIDADE_PROGRAMA',\n",
    "'NM_PROGRAMA_IES', 'SG_UF_PROGRAMA', 'NM_GRAU_PROGRAMA', 'CD_CONCEITO_PROGRAMA',\n",
    "'ID_ADD_FOTO_PROGRAMA_IES', 'ID_ADD_FOTO_PROGRAMA'], axis=1)\n",
    "\n"
   ]
  },
  {
   "cell_type": "code",
   "execution_count": 411,
   "metadata": {},
   "outputs": [
    {
     "data": {
      "text/plain": [
       "ANO_INICIO_PROGRAMA             19810\n",
       "AN_BASE                         19810\n",
       "AN_INICIO_CURSO                 19810\n",
       "CD_PROGRAMA_IES                 19810\n",
       "DS_CLIENTELA_QUADRIENAL_2017    15465\n",
       "DS_ORGANIZACAO_ACADEMICA        19810\n",
       "DS_SITUACAO_PROGRAMA            19810\n",
       "DT_SITUACAO_PROGRAMA            19810\n",
       "IN_REDE                         19810\n",
       "NM_AREA_BASICA                   4345\n",
       "NM_AREA_CONHECIMENTO            19810\n",
       "NM_ESPECIALIDADE                19810\n",
       "NM_PROGRAMA_IDIOMA              19810\n",
       "NM_SUBAREA_CONHECIMENTO         19810\n",
       "SG_ENTIDADE_ENSINO_REDE           441\n",
       "dtype: int64"
      ]
     },
     "execution_count": 411,
     "metadata": {},
     "output_type": "execute_result"
    }
   ],
   "source": [
    "df_programas.count()"
   ]
  },
  {
   "cell_type": "code",
   "execution_count": null,
   "metadata": {},
   "outputs": [],
   "source": [
    "df_programas.replace('NÃO SE APLICA', df_programas['NM_AREA_CONHECIMENTO'], inplace=True)"
   ]
  },
  {
   "cell_type": "code",
   "execution_count": null,
   "metadata": {},
   "outputs": [],
   "source": [
    "df_programas\n"
   ]
  },
  {
   "cell_type": "code",
   "execution_count": 489,
   "metadata": {},
   "outputs": [],
   "source": [
    "# ----------------- MERGE DE DISCENTES E PROGRAMAS -----------------------------------------------"
   ]
  },
  {
   "cell_type": "code",
   "execution_count": 490,
   "metadata": {},
   "outputs": [],
   "source": [
    "df_merg_dis_prog = df_discentes.merge(df_programas,on=['AN_BASE', 'CD_PROGRAMA_IES'],suffixes=('_discentes', '_programas'))"
   ]
  },
  {
   "cell_type": "code",
   "execution_count": null,
   "metadata": {},
   "outputs": [],
   "source": []
  },
  {
   "cell_type": "code",
   "execution_count": 491,
   "metadata": {},
   "outputs": [],
   "source": [
    "#-----------------  cadastro de Instituições--------------------------------------"
   ]
  },
  {
   "cell_type": "code",
   "execution_count": 492,
   "metadata": {},
   "outputs": [
    {
     "name": "stdout",
     "output_type": "stream",
     "text": [
      "Arquivo de entrada possui 580 linhas de informacao\n"
     ]
    }
   ],
   "source": [
    "dir = '/var/tmp/solr_front/collections/capes/instituicoes/download'\n",
    "for root, dirs, files in os.walk(dir):\n",
    "    for file in files:\n",
    "        arquivo = codecs.open(os.path.join(root, file), 'r')  # , encoding='latin-1')\n",
    "        input_lenght = int(commands.getstatusoutput('cat ' + os.path.join(root, file) + ' |wc -l ')[1])\n",
    "        print 'Arquivo de entrada possui {} linhas de informacao'.format(int(input_lenght) - 1)\n",
    "        df_cadastro_ies = pd.read_csv(arquivo, sep=';', low_memory=False, encoding='latin-1')\n",
    "# eliminando as colunas vazias do csv.\n",
    "df_cadastro_ies = df_cadastro_ies.dropna(how = 'all', axis = 'columns')\n",
    "#df_cadastro_ies = df_cadastro_ies.dropna(how = 'all', axis = 'rows')"
   ]
  },
  {
   "cell_type": "code",
   "execution_count": 493,
   "metadata": {},
   "outputs": [],
   "source": [
    "# ----- DELETANDO O AN_BASE E DS_DEPENDENCIA_ADMINISTRATIVA PARA NÃO GERAR DUAS COLUNAS IGUAIS APÓS O MERGE ------"
   ]
  },
  {
   "cell_type": "code",
   "execution_count": 494,
   "metadata": {},
   "outputs": [],
   "source": [
    "df_cadastro_ies = df_cadastro_ies.drop(['AN_BASE', 'DS_DEPENDENCIA_ADMINISTRATIVA', 'CS_STATUS_JURIDICO'], axis=1)"
   ]
  },
  {
   "cell_type": "code",
   "execution_count": 495,
   "metadata": {},
   "outputs": [],
   "source": [
    "df_final = df_merg_dis_prog.merge(df_cadastro_ies, on=['SG_ENTIDADE_ENSINO_Capes', 'NM_ENTIDADE_ENSINO_Capes'],suffixes=('_disc_prog', '_cad_ies'))\n"
   ]
  },
  {
   "cell_type": "code",
   "execution_count": 452,
   "metadata": {},
   "outputs": [
    {
     "data": {
      "text/plain": [
       "Index([                       u'AN_BASE',              u'CD_AREA_AVALIACAO',\n",
       "                    u'CD_CONCEITO_CURSO',           u'CD_CONCEITO_PROGRAMA',\n",
       "                      u'CD_PROGRAMA_IES',             u'CS_STATUS_JURIDICO',\n",
       "        u'DS_DEPENDENCIA_ADMINISTRATIVA',                u'DS_FAIXA_ETARIA',\n",
       "           u'DS_GRAU_ACADEMICO_DISCENTE', u'DS_TIPO_NACIONALIDADE_DISCENTE',\n",
       "                u'DT_MATRICULA_DISCENTE',           u'DT_SITUACAO_DISCENTE',\n",
       "                 u'ID_ADD_FOTO_PROGRAMA',       u'ID_ADD_FOTO_PROGRAMA_IES',\n",
       "                            u'ID_PESSOA',              u'NM_AREA_AVALIACAO',\n",
       "                          u'NM_DISCENTE',             u'NM_ENTIDADE_ENSINO',\n",
       "          u'NM_GRANDE_AREA_CONHECIMENTO',               u'NM_GRAU_PROGRAMA',\n",
       "               u'NM_MODALIDADE_PROGRAMA',      u'NM_MUNICIPIO_PROGRAMA_IES',\n",
       "                        u'NM_ORIENTADOR', u'NM_PAIS_NACIONALIDADE_DISCENTE',\n",
       "                      u'NM_PROGRAMA_IES',                      u'NM_REGIAO',\n",
       "                 u'NM_SITUACAO_DISCENTE',            u'NM_TESE_DISSERTACAO',\n",
       "                u'NR_DOCUMENTO_DISCENTE',               u'QT_MES_TITULACAO',\n",
       "                   u'SG_ENTIDADE_ENSINO',                 u'SG_UF_PROGRAMA',\n",
       "                       u'ST_INGRESSANTE',          u'TP_DOCUMENTO_DISCENTE',\n",
       "                     u'TP_SEXO_DISCENTE',       u'SG_ENTIDADE_ENSINO_Capes',\n",
       "             u'NM_ENTIDADE_ENSINO_Capes',            u'ANO_INICIO_PROGRAMA',\n",
       "                      u'AN_INICIO_CURSO',   u'DS_CLIENTELA_QUADRIENAL_2017',\n",
       "             u'DS_ORGANIZACAO_ACADEMICA',           u'DS_SITUACAO_PROGRAMA',\n",
       "                 u'DT_SITUACAO_PROGRAMA',                        u'IN_REDE',\n",
       "                       u'NM_AREA_BASICA',           u'NM_AREA_CONHECIMENTO',\n",
       "                     u'NM_ESPECIALIDADE',             u'NM_PROGRAMA_IDIOMA',\n",
       "              u'NM_SUBAREA_CONHECIMENTO',        u'SG_ENTIDADE_ENSINO_REDE',\n",
       "                          u'CD_INST_GEI',                    u'SG_INST_GEI',\n",
       "                          u'NM_INST_GEI',  u'Codigo_do_Tipo_de_Instituicao',\n",
       "                  u'Tipo_de_Instituicao',   u'Codigo_Natureza_Juridica-GEI',\n",
       "           u'Nome_Natureza_Juridica-GEI',   u'CD_ORGANIZACAO_ACADEMICA-GEI',\n",
       "         u'DS_ORGANIZACAO_ACADEMICA-GEI', u'DS_ORGANIZACAO_ACADEMICA_Capes',\n",
       "                       u'CD_Mantenedora',                 u'NM_Mantenedora'],\n",
       "      dtype='object')"
      ]
     },
     "execution_count": 452,
     "metadata": {},
     "output_type": "execute_result"
    }
   ],
   "source": [
    "df_final.columns"
   ]
  },
  {
   "cell_type": "code",
   "execution_count": 531,
   "metadata": {},
   "outputs": [],
   "source": [
    "# ----------------  FUNCIONANDO PERFEITAMENTE ------------------------------------------------"
   ]
  },
  {
   "cell_type": "code",
   "execution_count": null,
   "metadata": {},
   "outputs": [],
   "source": [
    "# --------Variável duplicada com o mesmo nome, resolvendo -------------------"
   ]
  },
  {
   "cell_type": "code",
   "execution_count": 496,
   "metadata": {},
   "outputs": [],
   "source": [
    "df_final['SituacaoDiscente'] = df_final['NM_SITUACAO_DISCENTE']"
   ]
  },
  {
   "cell_type": "code",
   "execution_count": 497,
   "metadata": {},
   "outputs": [],
   "source": [
    "df_final['SituacaoDiscente'] = df_final['SituacaoDiscente'].apply(lambda x: x.encode('ascii', 'ignore').strip())"
   ]
  },
  {
   "cell_type": "code",
   "execution_count": 498,
   "metadata": {},
   "outputs": [
    {
     "data": {
      "text/plain": [
       "array(['DESLIGADO', 'TITULADO', 'MATRICULADO', 'ABANDONOU',\n",
       "       'MUDANCA DE NVEL SEM DEFESA', 'MUDANA DE NVEL SEM DEFESA'],\n",
       "      dtype=object)"
      ]
     },
     "execution_count": 498,
     "metadata": {},
     "output_type": "execute_result"
    }
   ],
   "source": [
    "df_final['SituacaoDiscente'].unique()"
   ]
  },
  {
   "cell_type": "code",
   "execution_count": 499,
   "metadata": {},
   "outputs": [],
   "source": [
    "df_final['SituacaoDiscente'].replace(['MUDANCA DE NVEL SEM DEFESA','MUDANA DE NVEL SEM DEFESA'], 'MUDANCA DE NIVEL SEM DEFESA', inplace=True)"
   ]
  },
  {
   "cell_type": "code",
   "execution_count": 500,
   "metadata": {},
   "outputs": [
    {
     "data": {
      "text/plain": [
       "array(['DESLIGADO', 'TITULADO', 'MATRICULADO', 'ABANDONOU',\n",
       "       'MUDANCA DE NIVEL SEM DEFESA'], dtype=object)"
      ]
     },
     "execution_count": 500,
     "metadata": {},
     "output_type": "execute_result"
    }
   ],
   "source": [
    "df_final['SituacaoDiscente'].unique()"
   ]
  },
  {
   "cell_type": "code",
   "execution_count": 501,
   "metadata": {},
   "outputs": [],
   "source": [
    "#----------------------------------- teste --------------------"
   ]
  },
  {
   "cell_type": "code",
   "execution_count": 502,
   "metadata": {},
   "outputs": [
    {
     "data": {
      "text/plain": [
       "4    575150\n",
       "5    403338\n",
       "3    344052\n",
       "6    215855\n",
       "7    145405\n",
       "2      4702\n",
       "1       410\n",
       "Name: CD_CONCEITO_PROGRAMA, dtype: int64"
      ]
     },
     "execution_count": 502,
     "metadata": {},
     "output_type": "execute_result"
    }
   ],
   "source": [
    "total_conceito_programa.value_counts()\n"
   ]
  },
  {
   "cell_type": "code",
   "execution_count": null,
   "metadata": {},
   "outputs": [],
   "source": [
    "#--------------------------------------------------------------"
   ]
  },
  {
   "cell_type": "code",
   "execution_count": null,
   "metadata": {},
   "outputs": [],
   "source": [
    "# -------------  TRABALHANDO COM CAPES EXCLUIDOS - USANDO CD_CONCEITO_PROGRAMA  ---------------------"
   ]
  },
  {
   "cell_type": "code",
   "execution_count": 503,
   "metadata": {},
   "outputs": [
    {
     "data": {
      "text/plain": [
       "array([3, 4, 2, 5, 1, 6, 7])"
      ]
     },
     "execution_count": 503,
     "metadata": {},
     "output_type": "execute_result"
    }
   ],
   "source": [
    "df_final['CD_CONCEITO_PROGRAMA'].unique()\n"
   ]
  },
  {
   "cell_type": "code",
   "execution_count": 354,
   "metadata": {},
   "outputs": [],
   "source": [
    "#------------------- teste para criação do campo casos_excluidos de cd conceito programa ------"
   ]
  },
  {
   "cell_type": "code",
   "execution_count": 505,
   "metadata": {},
   "outputs": [],
   "source": [
    "df_final['Casos_Excluidos_GeoCapes'] = df_final['CD_CONCEITO_PROGRAMA'].apply(lambda x: 'Sim – conceito do programa igual 1 e 2' if x < 3 else 'Não – conceito do programa igual a 3, 4, 5, 7')"
   ]
  },
  {
   "cell_type": "code",
   "execution_count": 464,
   "metadata": {},
   "outputs": [],
   "source": [
    "teste = df_final['Casos_Excluidos_GeoCapes']"
   ]
  },
  {
   "cell_type": "code",
   "execution_count": 465,
   "metadata": {},
   "outputs": [
    {
     "data": {
      "text/plain": [
       "Não – conceito do programa igual a 3, 4, 5, 7    1683800\n",
       "Sim – conceito do programa igual 1 e 2              5112\n",
       "Name: Casos_Excluidos_GeoCapes, dtype: int64"
      ]
     },
     "execution_count": 465,
     "metadata": {},
     "output_type": "execute_result"
    }
   ],
   "source": [
    "teste.value_counts()"
   ]
  }
 ],
 "metadata": {
  "kernelspec": {
   "display_name": "Python 3",
   "language": "python",
   "name": "python3"
  },
  "language_info": {
   "codemirror_mode": {
    "name": "ipython",
    "version": 3
   },
   "file_extension": ".py",
   "mimetype": "text/x-python",
   "name": "python",
   "nbconvert_exporter": "python",
   "pygments_lexer": "ipython3",
   "version": "3.7.3"
  }
 },
 "nbformat": 4,
 "nbformat_minor": 2
}
