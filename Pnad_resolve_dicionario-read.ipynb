{
 "cells": [
  {
   "cell_type": "code",
   "execution_count": 151,
   "metadata": {},
   "outputs": [],
   "source": [
    "library(PNADcIBGE)\n",
    "library(magrittr)\n",
    "library(dplyr)\n",
    "library(readr)"
   ]
  },
  {
   "cell_type": "code",
   "execution_count": 160,
   "metadata": {},
   "outputs": [],
   "source": [
    "dir <- getwd()"
   ]
  },
  {
   "cell_type": "code",
   "execution_count": 170,
   "metadata": {},
   "outputs": [
    {
     "data": {
      "text/html": [
       "'C:/Users/cgt/Documents/carlos/Jupyter_notebook_r/Pnad'"
      ],
      "text/latex": [
       "'C:/Users/cgt/Documents/carlos/Jupyter\\_notebook\\_r/Pnad'"
      ],
      "text/markdown": [
       "'C:/Users/cgt/Documents/carlos/Jupyter_notebook_r/Pnad'"
      ],
      "text/plain": [
       "[1] \"C:/Users/cgt/Documents/carlos/Jupyter_notebook_r/Pnad\""
      ]
     },
     "metadata": {},
     "output_type": "display_data"
    }
   ],
   "source": [
    "dir"
   ]
  },
  {
   "cell_type": "code",
   "execution_count": 173,
   "metadata": {},
   "outputs": [
    {
     "data": {
      "text/html": [
       "<ol class=list-inline>\n",
       "\t<li>'dados.rds'</li>\n",
       "\t<li>'dados_a_exportar.rds'</li>\n",
       "\t<li>'Input_PNADC_1_visita_2017_20191016.txt'</li>\n",
       "\t<li>'inputtxt.rds'</li>\n",
       "\t<li>'microdataname.rds'</li>\n",
       "\t<li>'PNADC_2017_visita1.txt'</li>\n",
       "\t<li>'PNADC_2017_visita1_20191016.zip'</li>\n",
       "\t<li>'teste'</li>\n",
       "</ol>\n"
      ],
      "text/latex": [
       "\\begin{enumerate*}\n",
       "\\item 'dados.rds'\n",
       "\\item 'dados\\_a\\_exportar.rds'\n",
       "\\item 'Input\\_PNADC\\_1\\_visita\\_2017\\_20191016.txt'\n",
       "\\item 'inputtxt.rds'\n",
       "\\item 'microdataname.rds'\n",
       "\\item 'PNADC\\_2017\\_visita1.txt'\n",
       "\\item 'PNADC\\_2017\\_visita1\\_20191016.zip'\n",
       "\\item 'teste'\n",
       "\\end{enumerate*}\n"
      ],
      "text/markdown": [
       "1. 'dados.rds'\n",
       "2. 'dados_a_exportar.rds'\n",
       "3. 'Input_PNADC_1_visita_2017_20191016.txt'\n",
       "4. 'inputtxt.rds'\n",
       "5. 'microdataname.rds'\n",
       "6. 'PNADC_2017_visita1.txt'\n",
       "7. 'PNADC_2017_visita1_20191016.zip'\n",
       "8. 'teste'\n",
       "\n",
       "\n"
      ],
      "text/plain": [
       "[1] \"dados.rds\"                             \n",
       "[2] \"dados_a_exportar.rds\"                  \n",
       "[3] \"Input_PNADC_1_visita_2017_20191016.txt\"\n",
       "[4] \"inputtxt.rds\"                          \n",
       "[5] \"microdataname.rds\"                     \n",
       "[6] \"PNADC_2017_visita1.txt\"                \n",
       "[7] \"PNADC_2017_visita1_20191016.zip\"       \n",
       "[8] \"teste\"                                 "
      ]
     },
     "metadata": {},
     "output_type": "display_data"
    }
   ],
   "source": [
    "list.files()"
   ]
  },
  {
   "cell_type": "code",
   "execution_count": 174,
   "metadata": {},
   "outputs": [],
   "source": [
    "arqs <- list.files(pattern = \".txt$\")"
   ]
  },
  {
   "cell_type": "code",
   "execution_count": 175,
   "metadata": {},
   "outputs": [
    {
     "data": {
      "text/html": [
       "<ol class=list-inline>\n",
       "\t<li>'Input_PNADC_1_visita_2017_20191016.txt'</li>\n",
       "\t<li>'PNADC_2017_visita1.txt'</li>\n",
       "</ol>\n"
      ],
      "text/latex": [
       "\\begin{enumerate*}\n",
       "\\item 'Input\\_PNADC\\_1\\_visita\\_2017\\_20191016.txt'\n",
       "\\item 'PNADC\\_2017\\_visita1.txt'\n",
       "\\end{enumerate*}\n"
      ],
      "text/markdown": [
       "1. 'Input_PNADC_1_visita_2017_20191016.txt'\n",
       "2. 'PNADC_2017_visita1.txt'\n",
       "\n",
       "\n"
      ],
      "text/plain": [
       "[1] \"Input_PNADC_1_visita_2017_20191016.txt\"\n",
       "[2] \"PNADC_2017_visita1.txt\"                "
      ]
     },
     "metadata": {},
     "output_type": "display_data"
    }
   ],
   "source": [
    "arqs"
   ]
  },
  {
   "cell_type": "code",
   "execution_count": 132,
   "metadata": {},
   "outputs": [],
   "source": [
    "X1=X2=X3=start=end=vars=NULL"
   ]
  },
  {
   "cell_type": "code",
   "execution_count": 179,
   "metadata": {},
   "outputs": [],
   "source": [
    "dados <- arqs[2]"
   ]
  },
  {
   "cell_type": "code",
   "execution_count": 187,
   "metadata": {},
   "outputs": [],
   "source": [
    "read_arq <- suppressWarnings(suppressMessages({readr::read_table2(arqs[1],col_names = F)}))"
   ]
  },
  {
   "cell_type": "code",
   "execution_count": 188,
   "metadata": {},
   "outputs": [],
   "source": [
    "input <- read_arq %>% subset(substr(X1, 1, 1) == \"@\") %>%\n",
    "    dplyr::mutate(type=ifelse(substr(X3, 1, 1) == \"$\",\"c\",\"d\"),\n",
    "    start=as.numeric(gsub(\"@\", \"\", X1)),\n",
    "    X3=as.integer(chartr(\"$\", \" \", X3)),\n",
    "    end=start+X3-1)"
   ]
  },
  {
   "cell_type": "code",
   "execution_count": 189,
   "metadata": {},
   "outputs": [
    {
     "data": {
      "text/html": [
       "<table>\n",
       "<caption>A tibble: 6 × 17</caption>\n",
       "<thead>\n",
       "\t<tr><th scope=col>X1</th><th scope=col>X2</th><th scope=col>X3</th><th scope=col>X4</th><th scope=col>X5</th><th scope=col>X6</th><th scope=col>X7</th><th scope=col>X8</th><th scope=col>X9</th><th scope=col>X10</th><th scope=col>X11</th><th scope=col>X12</th><th scope=col>X13</th><th scope=col>X14</th><th scope=col>type</th><th scope=col>start</th><th scope=col>end</th></tr>\n",
       "\t<tr><th scope=col>&lt;chr&gt;</th><th scope=col>&lt;chr&gt;</th><th scope=col>&lt;int&gt;</th><th scope=col>&lt;chr&gt;</th><th scope=col>&lt;chr&gt;</th><th scope=col>&lt;chr&gt;</th><th scope=col>&lt;chr&gt;</th><th scope=col>&lt;chr&gt;</th><th scope=col>&lt;chr&gt;</th><th scope=col>&lt;chr&gt;</th><th scope=col>&lt;chr&gt;</th><th scope=col>&lt;chr&gt;</th><th scope=col>&lt;chr&gt;</th><th scope=col>&lt;chr&gt;</th><th scope=col>&lt;chr&gt;</th><th scope=col>&lt;dbl&gt;</th><th scope=col>&lt;dbl&gt;</th></tr>\n",
       "</thead>\n",
       "<tbody>\n",
       "\t<tr><td>@0001</td><td><span style=white-space:pre-wrap>Ano      </span></td><td>4</td><td>/*</td><td><span style=white-space:pre-wrap>Ano         </span></td><td><span style=white-space:pre-wrap>de         </span></td><td><span style=white-space:pre-wrap>refer&lt;ea&gt;ncia  </span></td><td><span style=white-space:pre-wrap>*/        </span></td><td><span style=white-space:pre-wrap>NA  </span></td><td><span style=white-space:pre-wrap>NA  </span></td><td><span style=white-space:pre-wrap>NA  </span></td><td>NA</td><td>NA</td><td>NA</td><td>c</td><td> 1</td><td> 4</td></tr>\n",
       "\t<tr><td>@0005</td><td>Trimestre</td><td>1</td><td>/*</td><td><span style=white-space:pre-wrap>Trimestre   </span></td><td><span style=white-space:pre-wrap>de         </span></td><td><span style=white-space:pre-wrap>refer&lt;ea&gt;ncia  </span></td><td><span style=white-space:pre-wrap>*/        </span></td><td><span style=white-space:pre-wrap>NA  </span></td><td><span style=white-space:pre-wrap>NA  </span></td><td><span style=white-space:pre-wrap>NA  </span></td><td>NA</td><td>NA</td><td>NA</td><td>c</td><td> 5</td><td> 5</td></tr>\n",
       "\t<tr><td>@0006</td><td><span style=white-space:pre-wrap>UF       </span></td><td>2</td><td>/*</td><td><span style=white-space:pre-wrap>Unidade     </span></td><td><span style=white-space:pre-wrap>da         </span></td><td>Federa&lt;e7&gt;&lt;e3&gt;o</td><td><span style=white-space:pre-wrap>*/        </span></td><td><span style=white-space:pre-wrap>NA  </span></td><td><span style=white-space:pre-wrap>NA  </span></td><td><span style=white-space:pre-wrap>NA  </span></td><td>NA</td><td>NA</td><td>NA</td><td>c</td><td> 6</td><td> 7</td></tr>\n",
       "\t<tr><td>@0008</td><td><span style=white-space:pre-wrap>Capital  </span></td><td>2</td><td>/*</td><td>Munic&lt;ed&gt;pio</td><td><span style=white-space:pre-wrap>da         </span></td><td><span style=white-space:pre-wrap>Capital        </span></td><td><span style=white-space:pre-wrap>*/        </span></td><td><span style=white-space:pre-wrap>NA  </span></td><td><span style=white-space:pre-wrap>NA  </span></td><td><span style=white-space:pre-wrap>NA  </span></td><td>NA</td><td>NA</td><td>NA</td><td>c</td><td> 8</td><td> 9</td></tr>\n",
       "\t<tr><td>@0010</td><td>RM_RIDE  </td><td>2</td><td>/*</td><td>Reg.        </td><td>Metr.      </td><td>e              </td><td>Reg.      </td><td>Adm.</td><td>Int.</td><td>Des.</td><td>*/</td><td>NA</td><td>NA</td><td>c</td><td>10</td><td>11</td></tr>\n",
       "\t<tr><td>@0012</td><td><span style=white-space:pre-wrap>UPA      </span></td><td>9</td><td>/*</td><td><span style=white-space:pre-wrap>Unidade     </span></td><td>Prim&lt;e1&gt;ria</td><td><span style=white-space:pre-wrap>de             </span></td><td>Amostragem</td><td><span style=white-space:pre-wrap>*/  </span></td><td><span style=white-space:pre-wrap>NA  </span></td><td><span style=white-space:pre-wrap>NA  </span></td><td>NA</td><td>NA</td><td>NA</td><td>c</td><td>12</td><td>20</td></tr>\n",
       "</tbody>\n",
       "</table>\n"
      ],
      "text/latex": [
       "A tibble: 6 × 17\n",
       "\\begin{tabular}{r|lllllllllllllllll}\n",
       " X1 & X2 & X3 & X4 & X5 & X6 & X7 & X8 & X9 & X10 & X11 & X12 & X13 & X14 & type & start & end\\\\\n",
       " <chr> & <chr> & <int> & <chr> & <chr> & <chr> & <chr> & <chr> & <chr> & <chr> & <chr> & <chr> & <chr> & <chr> & <chr> & <dbl> & <dbl>\\\\\n",
       "\\hline\n",
       "\t @0001 & Ano       & 4 & /* & Ano          & de          & refer<ea>ncia   & */         & NA   & NA   & NA   & NA & NA & NA & c &  1 &  4\\\\\n",
       "\t @0005 & Trimestre & 1 & /* & Trimestre    & de          & refer<ea>ncia   & */         & NA   & NA   & NA   & NA & NA & NA & c &  5 &  5\\\\\n",
       "\t @0006 & UF        & 2 & /* & Unidade      & da          & Federa<e7><e3>o & */         & NA   & NA   & NA   & NA & NA & NA & c &  6 &  7\\\\\n",
       "\t @0008 & Capital   & 2 & /* & Munic<ed>pio & da          & Capital         & */         & NA   & NA   & NA   & NA & NA & NA & c &  8 &  9\\\\\n",
       "\t @0010 & RM\\_RIDE   & 2 & /* & Reg.         & Metr.       & e               & Reg.       & Adm. & Int. & Des. & */ & NA & NA & c & 10 & 11\\\\\n",
       "\t @0012 & UPA       & 9 & /* & Unidade      & Prim<e1>ria & de              & Amostragem & */   & NA   & NA   & NA & NA & NA & c & 12 & 20\\\\\n",
       "\\end{tabular}\n"
      ],
      "text/markdown": [
       "\n",
       "A tibble: 6 × 17\n",
       "\n",
       "| X1 &lt;chr&gt; | X2 &lt;chr&gt; | X3 &lt;int&gt; | X4 &lt;chr&gt; | X5 &lt;chr&gt; | X6 &lt;chr&gt; | X7 &lt;chr&gt; | X8 &lt;chr&gt; | X9 &lt;chr&gt; | X10 &lt;chr&gt; | X11 &lt;chr&gt; | X12 &lt;chr&gt; | X13 &lt;chr&gt; | X14 &lt;chr&gt; | type &lt;chr&gt; | start &lt;dbl&gt; | end &lt;dbl&gt; |\n",
       "|---|---|---|---|---|---|---|---|---|---|---|---|---|---|---|---|---|\n",
       "| @0001 | Ano       | 4 | /* | Ano          | de          | refer&lt;ea&gt;ncia   | */         | NA   | NA   | NA   | NA | NA | NA | c |  1 |  4 |\n",
       "| @0005 | Trimestre | 1 | /* | Trimestre    | de          | refer&lt;ea&gt;ncia   | */         | NA   | NA   | NA   | NA | NA | NA | c |  5 |  5 |\n",
       "| @0006 | UF        | 2 | /* | Unidade      | da          | Federa&lt;e7&gt;&lt;e3&gt;o | */         | NA   | NA   | NA   | NA | NA | NA | c |  6 |  7 |\n",
       "| @0008 | Capital   | 2 | /* | Munic&lt;ed&gt;pio | da          | Capital         | */         | NA   | NA   | NA   | NA | NA | NA | c |  8 |  9 |\n",
       "| @0010 | RM_RIDE   | 2 | /* | Reg.         | Metr.       | e               | Reg.       | Adm. | Int. | Des. | */ | NA | NA | c | 10 | 11 |\n",
       "| @0012 | UPA       | 9 | /* | Unidade      | Prim&lt;e1&gt;ria | de              | Amostragem | */   | NA   | NA   | NA | NA | NA | c | 12 | 20 |\n",
       "\n"
      ],
      "text/plain": [
       "  X1    X2        X3 X4 X5           X6          X7              X8        \n",
       "1 @0001 Ano       4  /* Ano          de          refer<ea>ncia   */        \n",
       "2 @0005 Trimestre 1  /* Trimestre    de          refer<ea>ncia   */        \n",
       "3 @0006 UF        2  /* Unidade      da          Federa<e7><e3>o */        \n",
       "4 @0008 Capital   2  /* Munic<ed>pio da          Capital         */        \n",
       "5 @0010 RM_RIDE   2  /* Reg.         Metr.       e               Reg.      \n",
       "6 @0012 UPA       9  /* Unidade      Prim<e1>ria de              Amostragem\n",
       "  X9   X10  X11  X12 X13 X14 type start end\n",
       "1 NA   NA   NA   NA  NA  NA  c     1     4 \n",
       "2 NA   NA   NA   NA  NA  NA  c     5     5 \n",
       "3 NA   NA   NA   NA  NA  NA  c     6     7 \n",
       "4 NA   NA   NA   NA  NA  NA  c     8     9 \n",
       "5 Adm. Int. Des. */  NA  NA  c    10    11 \n",
       "6 */   NA   NA   NA  NA  NA  c    12    20 "
      ]
     },
     "metadata": {},
     "output_type": "display_data"
    }
   ],
   "source": [
    "head(input)"
   ]
  },
  {
   "cell_type": "code",
   "execution_count": 193,
   "metadata": {},
   "outputs": [],
   "source": [
    "columns <- input %$%\n",
    "    readr::fwf_positions(start = start,end = end, col_names = X2)"
   ]
  },
  {
   "cell_type": "code",
   "execution_count": 195,
   "metadata": {},
   "outputs": [
    {
     "data": {
      "text/html": [
       "<table>\n",
       "<caption>A tibble: 6 × 3</caption>\n",
       "<thead>\n",
       "\t<tr><th scope=col>begin</th><th scope=col>end</th><th scope=col>col_names</th></tr>\n",
       "\t<tr><th scope=col>&lt;dbl&gt;</th><th scope=col>&lt;dbl&gt;</th><th scope=col>&lt;chr&gt;</th></tr>\n",
       "</thead>\n",
       "<tbody>\n",
       "\t<tr><td> 0</td><td> 4</td><td>Ano      </td></tr>\n",
       "\t<tr><td> 4</td><td> 5</td><td>Trimestre</td></tr>\n",
       "\t<tr><td> 5</td><td> 7</td><td>UF       </td></tr>\n",
       "\t<tr><td> 7</td><td> 9</td><td>Capital  </td></tr>\n",
       "\t<tr><td> 9</td><td>11</td><td>RM_RIDE  </td></tr>\n",
       "\t<tr><td>11</td><td>20</td><td>UPA      </td></tr>\n",
       "</tbody>\n",
       "</table>\n"
      ],
      "text/latex": [
       "A tibble: 6 × 3\n",
       "\\begin{tabular}{r|lll}\n",
       " begin & end & col\\_names\\\\\n",
       " <dbl> & <dbl> & <chr>\\\\\n",
       "\\hline\n",
       "\t  0 &  4 & Ano      \\\\\n",
       "\t  4 &  5 & Trimestre\\\\\n",
       "\t  5 &  7 & UF       \\\\\n",
       "\t  7 &  9 & Capital  \\\\\n",
       "\t  9 & 11 & RM\\_RIDE  \\\\\n",
       "\t 11 & 20 & UPA      \\\\\n",
       "\\end{tabular}\n"
      ],
      "text/markdown": [
       "\n",
       "A tibble: 6 × 3\n",
       "\n",
       "| begin &lt;dbl&gt; | end &lt;dbl&gt; | col_names &lt;chr&gt; |\n",
       "|---|---|---|\n",
       "|  0 |  4 | Ano       |\n",
       "|  4 |  5 | Trimestre |\n",
       "|  5 |  7 | UF        |\n",
       "|  7 |  9 | Capital   |\n",
       "|  9 | 11 | RM_RIDE   |\n",
       "| 11 | 20 | UPA       |\n",
       "\n"
      ],
      "text/plain": [
       "  begin end col_names\n",
       "1  0     4  Ano      \n",
       "2  4     5  Trimestre\n",
       "3  5     7  UF       \n",
       "4  7     9  Capital  \n",
       "5  9    11  RM_RIDE  \n",
       "6 11    20  UPA      "
      ]
     },
     "metadata": {},
     "output_type": "display_data"
    }
   ],
   "source": [
    "head(columns)"
   ]
  },
  {
   "cell_type": "code",
   "execution_count": 203,
   "metadata": {},
   "outputs": [],
   "source": [
    "data_pnadc <- suppressWarnings(readr::read_fwf(dados,columns, col_types = paste0(input$type,collapse = \"\"),  \n",
    "              progress = show_progress()))"
   ]
  },
  {
   "cell_type": "code",
   "execution_count": 205,
   "metadata": {},
   "outputs": [
    {
     "data": {
      "text/html": [
       "<table>\n",
       "<caption>A tibble: 12 × 282</caption>\n",
       "<thead>\n",
       "\t<tr><th scope=col>Ano</th><th scope=col>Trimestre</th><th scope=col>UF</th><th scope=col>Capital</th><th scope=col>RM_RIDE</th><th scope=col>UPA</th><th scope=col>Estrato</th><th scope=col>V1008</th><th scope=col>V1014</th><th scope=col>V1022</th><th scope=col>...</th><th scope=col>VD5003</th><th scope=col>VD5004</th><th scope=col>VD5005</th><th scope=col>VD5006</th><th scope=col>VD5007</th><th scope=col>VD5008</th><th scope=col>VD5009</th><th scope=col>VD5010</th><th scope=col>VD5011</th><th scope=col>VD5012</th></tr>\n",
       "\t<tr><th scope=col>&lt;chr&gt;</th><th scope=col>&lt;chr&gt;</th><th scope=col>&lt;chr&gt;</th><th scope=col>&lt;chr&gt;</th><th scope=col>&lt;chr&gt;</th><th scope=col>&lt;chr&gt;</th><th scope=col>&lt;chr&gt;</th><th scope=col>&lt;chr&gt;</th><th scope=col>&lt;chr&gt;</th><th scope=col>&lt;chr&gt;</th><th scope=col>...</th><th scope=col>&lt;chr&gt;</th><th scope=col>&lt;dbl&gt;</th><th scope=col>&lt;dbl&gt;</th><th scope=col>&lt;chr&gt;</th><th scope=col>&lt;dbl&gt;</th><th scope=col>&lt;dbl&gt;</th><th scope=col>&lt;chr&gt;</th><th scope=col>&lt;dbl&gt;</th><th scope=col>&lt;dbl&gt;</th><th scope=col>&lt;chr&gt;</th></tr>\n",
       "</thead>\n",
       "<tbody>\n",
       "\t<tr><td>2017</td><td>4</td><td>11</td><td>11</td><td>NA</td><td>110000016</td><td>1110011</td><td>01</td><td>06</td><td>1</td><td>...</td><td>4</td><td>2750</td><td>1375</td><td>4</td><td>2600</td><td>1300</td><td>4</td><td>2750</td><td>1375</td><td>4</td></tr>\n",
       "\t<tr><td>2017</td><td>4</td><td>11</td><td>11</td><td>NA</td><td>110000016</td><td>1110011</td><td>01</td><td>06</td><td>1</td><td>...</td><td>4</td><td>2750</td><td>1375</td><td>4</td><td>2600</td><td>1300</td><td>4</td><td>2750</td><td>1375</td><td>4</td></tr>\n",
       "\t<tr><td>2017</td><td>4</td><td>11</td><td>11</td><td>NA</td><td>110000016</td><td>1110011</td><td>03</td><td>06</td><td>1</td><td>...</td><td>4</td><td>4300</td><td>1433</td><td>4</td><td>4300</td><td>1433</td><td>4</td><td>4300</td><td>1433</td><td>4</td></tr>\n",
       "\t<tr><td>2017</td><td>4</td><td>11</td><td>11</td><td>NA</td><td>110000016</td><td>1110011</td><td>03</td><td>06</td><td>1</td><td>...</td><td>4</td><td>4300</td><td>1433</td><td>4</td><td>4300</td><td>1433</td><td>4</td><td>4300</td><td>1433</td><td>4</td></tr>\n",
       "\t<tr><td>2017</td><td>4</td><td>11</td><td>11</td><td>NA</td><td>110000016</td><td>1110011</td><td>03</td><td>06</td><td>1</td><td>...</td><td>4</td><td>4300</td><td>1433</td><td>4</td><td>4300</td><td>1433</td><td>4</td><td>4300</td><td>1433</td><td>4</td></tr>\n",
       "\t<tr><td>2017</td><td>4</td><td>11</td><td>11</td><td>NA</td><td>110000016</td><td>1110011</td><td>04</td><td>06</td><td>1</td><td>...</td><td>2</td><td> 937</td><td> 469</td><td>2</td><td> 937</td><td> 469</td><td>2</td><td> 937</td><td> 469</td><td>2</td></tr>\n",
       "\t<tr><td>2017</td><td>4</td><td>11</td><td>11</td><td>NA</td><td>110000016</td><td>1110011</td><td>04</td><td>06</td><td>1</td><td>...</td><td>2</td><td> 937</td><td> 469</td><td>2</td><td> 937</td><td> 469</td><td>2</td><td> 937</td><td> 469</td><td>2</td></tr>\n",
       "\t<tr><td>2017</td><td>4</td><td>11</td><td>11</td><td>NA</td><td>110000016</td><td>1110011</td><td>05</td><td>06</td><td>1</td><td>...</td><td>4</td><td>4000</td><td>1000</td><td>4</td><td>4000</td><td>1000</td><td>4</td><td>4000</td><td>1000</td><td>4</td></tr>\n",
       "\t<tr><td>2017</td><td>4</td><td>11</td><td>11</td><td>NA</td><td>110000016</td><td>1110011</td><td>05</td><td>06</td><td>1</td><td>...</td><td>4</td><td>4000</td><td>1000</td><td>4</td><td>4000</td><td>1000</td><td>4</td><td>4000</td><td>1000</td><td>4</td></tr>\n",
       "\t<tr><td>2017</td><td>4</td><td>11</td><td>11</td><td>NA</td><td>110000016</td><td>1110011</td><td>05</td><td>06</td><td>1</td><td>...</td><td>4</td><td>4000</td><td>1000</td><td>4</td><td>4000</td><td>1000</td><td>4</td><td>4000</td><td>1000</td><td>4</td></tr>\n",
       "\t<tr><td>2017</td><td>4</td><td>11</td><td>11</td><td>NA</td><td>110000016</td><td>1110011</td><td>05</td><td>06</td><td>1</td><td>...</td><td>4</td><td>4000</td><td>1000</td><td>4</td><td>4000</td><td>1000</td><td>4</td><td>4000</td><td>1000</td><td>4</td></tr>\n",
       "\t<tr><td>2017</td><td>4</td><td>11</td><td>11</td><td>NA</td><td>110000016</td><td>1110011</td><td>06</td><td>06</td><td>1</td><td>...</td><td>2</td><td>1602</td><td> 401</td><td>2</td><td>1602</td><td> 401</td><td>2</td><td>1602</td><td> 401</td><td>2</td></tr>\n",
       "</tbody>\n",
       "</table>\n"
      ],
      "text/latex": [
       "A tibble: 12 × 282\n",
       "\\begin{tabular}{r|llllllllllllllllllllllllllllllllllllllllllllllllllllllllllllllllllllllllllllllllllllllllllllllllllllllllllllllllllllllllllllllllllllllllllllllllllllllllllllllllllllllllllllllllllllllllllllllllllllllllllllllllllllllllllllllllllllllllllllllllllllllllllllllllllllllllllllllllllllllllll}\n",
       " Ano & Trimestre & UF & Capital & RM\\_RIDE & UPA & Estrato & V1008 & V1014 & V1022 & V1023 & V1030 & V1031 & V1032 & posest & V2001 & V2003 & V2005 & V2007 & V2008 & V20081 & V20082 & V2009 & V2010 & V3001 & V3002 & V3002A & V3003A & V3004 & V3005A & V3006 & V3007 & V3008 & V3009A & V3010 & V3011A & V3012 & V3013 & V3014 & V4001 & V4002 & V4003 & V4004 & V4005 & V4006A & V4008 & V40081 & V40082 & V40083 & V4009 & V4010 & V4012 & V40121 & V4013 & V40132A & V4014 & V4015 & V40151 & V401511 & V401512 & V4016 & V40161 & V40162 & V40163 & V4017 & V40171 & V401711 & V4018 & V40181 & V40182 & V40183 & V4019 & V4020 & V4021 & V4022 & V4024 & V4025 & V4026 & V4027 & V4028 & V4029 & V4030 & V4031 & V4032 & V4033 & V40331 & V403311 & V403312 & V40332 & V403321 & V403322 & V40333 & V403331 & V4034 & V40341 & V403411 & V403412 & V40342 & V403421 & V403422 & V4035 & V4036 & V4039 & V4039C & V4040 & V40401 & V40402 & V40403 & V4041 & V4043 & V40431 & V4044 & V4045 & V4046 & V4047 & V4048 & V4049 & V4050 & V40501 & V405011 & V405012 & V40502 & V405021 & V405022 & V40503 & V405031 & V4051 & V40511 & V405111 & V405112 & V40512 & V405121 & V405122 & V4052 & V4053 & V4056 & V4056C & V4057 & V4058 & V40581 & V405811 & V405812 & V40582 & V405821 & V405822 & V40583 & V405831 & V40584 & V4059 & V40591 & V405911 & V405912 & V40592 & V405921 & V405922 & V4062 & V4062C & V4063A & V4064A & V4071 & V4072A & V4073 & V4074A & V4075A & V4075A1 & V4076 & V40761 & V40762 & V40763 & V4077 & V4078A & V4082 & V4097 & V5001A & V5001A2 & V5002A & V5002A2 & V5003A & V5003A2 & V5004A & V5004A2 & V5005A & V5005A2 & V5006A & V5006A2 & V5007A & V5007A2 & V5008A & V5008A2 & S01001 & S01002 & S01003 & S01004 & S01005 & S01006 & S01007 & S01008 & S01009 & S01010 & S01011A & S01011B & S01011C & S01012 & S01013 & S01014 & S010141 & S010142 & S01015 & S01016 & S010161 & S010162 & S010163 & S010164 & S01017 & S01018 & S01019 & S01020 & S01021 & S01022 & S01023 & S01024 & S01025 & S01026 & S01027 & S01028 & S01029 & S01030 & S010301 & S010302 & S010303 & S010304 & S010305 & S01031 & S010311 & S010312 & VD2002 & VD2003 & VD2004 & VD3004 & VD3005 & VD3006 & VD4001 & VD4002 & VD4003 & VD4004A & VD4005 & VD4007 & VD4008 & VD4009 & VD4010 & VD4011 & VD4012 & VD4013 & VD4014 & VD4015 & VD4016 & VD4017 & VD4018 & VD4019 & VD4020 & VD4022 & VD4030 & VD4031 & VD4035 & VD4036 & VD4037 & VD4046 & VD4047 & VD4048 & VD4052 & VD5001 & VD5002 & VD5003 & VD5004 & VD5005 & VD5006 & VD5007 & VD5008 & VD5009 & VD5010 & VD5011 & VD5012\\\\\n",
       " <chr> & <chr> & <chr> & <chr> & <chr> & <chr> & <chr> & <chr> & <chr> & <chr> & <chr> & <dbl> & <dbl> & <dbl> & <chr> & <dbl> & <chr> & <chr> & <chr> & <chr> & <chr> & <chr> & <dbl> & <chr> & <chr> & <chr> & <chr> & <chr> & <chr> & <chr> & <chr> & <chr> & <chr> & <chr> & <chr> & <chr> & <chr> & <chr> & <chr> & <chr> & <chr> & <chr> & <chr> & <chr> & <chr> & <chr> & <chr> & <chr> & <chr> & <chr> & <chr> & <chr> & <chr> & <chr> & <chr> & <chr> & <chr> & <chr> & <chr> & <chr> & <chr> & <chr> & <chr> & <chr> & <chr> & <chr> & <chr> & <chr> & <chr> & <chr> & <chr> & <chr> & <chr> & <chr> & <chr> & <chr> & <chr> & <chr> & <chr> & <chr> & <chr> & <chr> & <chr> & <chr> & <chr> & <chr> & <chr> & <dbl> & <chr> & <chr> & <dbl> & <chr> & <chr> & <chr> & <chr> & <chr> & <dbl> & <chr> & <chr> & <dbl> & <chr> & <chr> & <dbl> & <dbl> & <chr> & <dbl> & <dbl> & <dbl> & <chr> & <chr> & <chr> & <chr> & <chr> & <chr> & <chr> & <chr> & <chr> & <chr> & <chr> & <chr> & <dbl> & <chr> & <chr> & <dbl> & <chr> & <chr> & <chr> & <chr> & <chr> & <dbl> & <chr> & <chr> & <dbl> & <chr> & <chr> & <dbl> & <dbl> & <chr> & <chr> & <chr> & <chr> & <dbl> & <chr> & <chr> & <dbl> & <chr> & <chr> & <chr> & <chr> & <chr> & <chr> & <dbl> & <chr> & <chr> & <dbl> & <dbl> & <dbl> & <chr> & <chr> & <chr> & <chr> & <chr> & <chr> & <chr> & <chr> & <chr> & <dbl> & <dbl> & <dbl> & <chr> & <chr> & <chr> & <chr> & <chr> & <dbl> & <chr> & <dbl> & <chr> & <dbl> & <chr> & <dbl> & <chr> & <dbl> & <chr> & <dbl> & <chr> & <dbl> & <chr> & <dbl> & <chr> & <chr> & <chr> & <chr> & <dbl> & <dbl> & <chr> & <chr> & <chr> & <chr> & <dbl> & <dbl> & <chr> & <chr> & <chr> & <chr> & <chr> & <chr> & <chr> & <chr> & <chr> & <chr> & <chr> & <chr> & <chr> & <dbl> & <dbl> & <chr> & <dbl> & <chr> & <chr> & <chr> & <chr> & <chr> & <chr> & <chr> & <chr> & <chr> & <chr> & <chr> & <chr> & <chr> & <chr> & <chr> & <chr> & <chr> & <chr> & <dbl> & <chr> & <chr> & <chr> & <chr> & <chr> & <chr> & <chr> & <chr> & <chr> & <chr> & <chr> & <chr> & <chr> & <chr> & <chr> & <chr> & <chr> & <chr> & <dbl> & <dbl> & <chr> & <dbl> & <dbl> & <dbl> & <chr> & <dbl> & <dbl> & <chr> & <chr> & <dbl> & <dbl> & <dbl> & <dbl> & <dbl> & <dbl> & <chr> & <dbl> & <dbl> & <chr> & <dbl> & <dbl> & <chr> & <dbl> & <dbl> & <chr>\\\\\n",
       "\\hline\n",
       "\t 2017 & 4 & 11 & 11 & NA & 110000016 & 1110011 & 01 & 06 & 1 & 1 & 508703 & 164.4367 & 196.6503 & 111 & 2 & 01 & 01 & 2 & 25 & 03 & 1966 & 51 & 4 & 1 & 2 & NA & NA & NA & NA & NA & NA & 1  & 07 & 1  & NA & 1  & 07 & 2  & 1  & NA & NA & NA & NA & NA & NA & NA & NA & NA & 1  & 9111 & 1  & NA & 97000 & 2  & NA & NA & NA & NA & NA & NA & NA & NA & NA & NA & NA & NA & NA & NA & NA & NA & NA & NA & NA & NA & 1  & NA & NA & NA & NA & 2  & NA & NA & 1  & 1  & 1  & 3  & 1200 & NA & NA & NA & NA & NA & 1  & 1  & 3  & 1200 & NA & NA & NA & 1  & NA & 24 & 24 & 4  & NA & NA & 11 & NA & NA & NA & NA & NA & NA & NA & NA & NA & NA & NA & NA & NA & NA & NA & NA & NA & NA & NA & NA & NA & NA & NA & NA & NA & NA & NA & NA & NA & NA & NA & NA & NA & NA & NA & NA & NA & NA & NA & NA & NA & NA & NA & NA & NA & NA & NA & NA & NA & 2  & NA & NA & NA & NA & NA & NA & NA & NA & NA & NA & NA & NA & NA & NA & 2  & 2 & NA & 2 &  NA & 2 & NA & 2 &  NA & 2 & NA & 2 & NA & 2 & NA & 2 & NA & 1 & 1 & 1 & 1 &  6 & 2 & 1 & 2  & 1 & 1 & 1 & NA & NA & 2 & 2 & 1 & 1 & 2 & 1 & 1 & 1 & 2 & 2 & 2 & 1 & NA &  NA & 1  & 2 & 2 & 2 & 2 & 1 & 1 & 2 & 1 & 1 & 1 & 1 & 2 & 1 & 2 & 2 & 1 & 2 & 1 & 01 & 2 & 2 & 2 & 08 & 3 & 1  & 1  & NA & NA & NA & 1  & 2  & 04 & 11 & 09 & 1  & 2  & 2  & 1  & 1200 & 1200 & 1  & 1200 & 1200 & 1200 & NA & 24 & 24 & 2  & 2  & 1200 &  NA &  NA & 1200 & 2600 & 1300 & 4 & 2750 & 1375 & 4 & 2600 & 1300 & 4 & 2750 & 1375 & 4\\\\\n",
       "\t 2017 & 4 & 11 & 11 & NA & 110000016 & 1110011 & 01 & 06 & 1 & 1 & 508703 & 164.4367 & 196.6503 & 111 & 2 & 02 & 05 & 1 & 24 & 05 & 1995 & 22 & 4 & 1 & 1 & 1  & 10 & NA & NA & NA & NA & NA & NA & NA & NA & NA & NA & NA & 1  & NA & NA & NA & NA & NA & NA & NA & NA & NA & 1  & 2351 & 3  & NA & 85014 & 2  & NA & 2  & NA & NA & NA & NA & NA & NA & NA & NA & NA & NA & 3  & NA & NA & 28 & NA & 1  & 1  & NA & NA & 2  & NA & NA & NA & 1  & NA & NA & NA & 1  & 1  & 3  & 1400 & NA & NA & NA & NA & NA & 1  & 1  & 3  & 1400 & NA & NA & NA & 1  & NA & 40 & 40 & 2  &  9 & NA & NA & NA & NA & NA & NA & NA & NA & NA & NA & NA & NA & NA & NA & NA & NA & NA & NA & NA & NA & NA & NA & NA & NA & NA & NA & NA & NA & NA & NA & NA & NA & NA & NA & NA & NA & NA & NA & NA & NA & NA & NA & NA & NA & NA & NA & NA & NA & NA & NA & NA & 2  & NA & NA & NA & NA & NA & NA & NA & NA & NA & NA & NA & NA & NA & NA & 2  & 2 & NA & 2 &  NA & 2 & NA & 2 &  NA & 2 & NA & 2 & NA & 2 & NA & 2 & NA & 1 & 1 & 1 & 1 &  6 & 2 & 1 & 2  & 1 & 1 & 1 & NA & NA & 2 & 2 & 1 & 1 & 2 & 1 & 1 & 1 & 2 & 2 & 2 & 1 & NA &  NA & 1  & 2 & 2 & 2 & 2 & 1 & 1 & 2 & 1 & 1 & 1 & 1 & 2 & 1 & 2 & 2 & 1 & 2 & 1 & 03 & 2 & 2 & 7 & 16 & 6 & 1  & 1  & NA & NA & NA & 1  & 1  & 01 & 09 & 02 & 1  & 3  & 3  & 1  & 1400 & 1400 & 1  & 1400 & 1400 & 1400 & NA & 40 & 40 & 3  & 3  & 1400 &  NA &  NA & 1550 & 2600 & 1300 & 4 & 2750 & 1375 & 4 & 2600 & 1300 & 4 & 2750 & 1375 & 4\\\\\n",
       "\t 2017 & 4 & 11 & 11 & NA & 110000016 & 1110011 & 03 & 06 & 1 & 1 & 508703 & 164.4367 & 196.6503 & 111 & 3 & 01 & 01 & 2 & 11 & 01 & 1974 & 43 & 4 & 1 & 2 & NA & NA & NA & NA & NA & NA & 1  & 10 & NA & NA & 1  & 03 & 1  & 1  & NA & NA & NA & NA & NA & NA & NA & NA & NA & 1  & 3253 & 4  & NA & 84013 & 2  & 3  & NA & NA & NA & NA & NA & NA & NA & NA & NA & NA & NA & NA & NA & NA & NA & NA & 1  & NA & NA & NA & 2  & NA & NA & 1  & NA & NA & NA & NA & 1  & 1  & 4  & 2300 & NA & NA & NA & NA & NA & 1  & 1  & 4  & 2300 & NA & NA & NA & 1  & NA & 40 & 40 & 4  & NA & NA & 13 & NA & NA & NA & NA & NA & NA & NA & NA & NA & NA & NA & NA & NA & NA & NA & NA & NA & NA & NA & NA & NA & NA & NA & NA & NA & NA & NA & NA & NA & NA & NA & NA & NA & NA & NA & NA & NA & NA & NA & NA & NA & NA & NA & NA & NA & NA & NA & NA & NA & 2  & NA & NA & NA & NA & NA & NA & NA & NA & NA & NA & NA & NA & NA & NA & 1  & 2 & NA & 2 &  NA & 2 & NA & 2 &  NA & 2 & NA & 2 & NA & 2 & NA & 2 & NA & 1 & 1 & 1 & 1 &  6 & 2 & 1 & 2  & 1 & 1 & 2 & NA & NA & 2 & 2 & 1 & 1 & 2 & 1 & 1 & 1 & 2 & 2 & 2 & 3 & NA & 600 & NA & 2 & 2 & 2 & 2 & 1 & 2 & 1 & 2 & 1 & 1 & 2 & 2 & 1 & 2 & 2 & 1 & 1 & 2 & 01 & 3 & 2 & 5 & 12 & 5 & 1  & 1  & NA & NA & NA & 1  & 3  & 07 & 08 & 03 & 1  & 3  & 3  & 1  & 2300 & 2300 & 1  & 2300 & 2300 & 2300 & NA & 40 & 40 & 3  & 3  & 2300 &  NA &  NA & 2300 & 4300 & 1433 & 4 & 4300 & 1433 & 4 & 4300 & 1433 & 4 & 4300 & 1433 & 4\\\\\n",
       "\t 2017 & 4 & 11 & 11 & NA & 110000016 & 1110011 & 03 & 06 & 1 & 1 & 508703 & 164.4367 & 196.6503 & 111 & 3 & 02 & 02 & 1 & 26 & 05 & 1984 & 33 & 1 & 1 & 2 & NA & NA & NA & NA & NA & NA & 1  & 07 & 1  & NA & 1  & 07 & 2  & 1  & NA & NA & NA & NA & NA & NA & NA & NA & NA & 1  & 5243 & 6  & NA & 41000 & 2  & NA & 2  & NA & NA & NA & NA & NA & NA & NA & 2  & NA & NA & 1  & 1  & NA & NA & 2  & 3  & NA & 2  & NA & NA & NA & NA & NA & NA & 2  & NA & 2  & 1  & 1  & 4  & 2000 & NA & NA & NA & NA & NA & 1  & 1  & 4  & 2000 & NA & NA & NA & 1  & NA & 40 & 40 & 4  & NA & NA &  4 & NA & NA & NA & NA & NA & NA & NA & NA & NA & NA & NA & NA & NA & NA & NA & NA & NA & NA & NA & NA & NA & NA & NA & NA & NA & NA & NA & NA & NA & NA & NA & NA & NA & NA & NA & NA & NA & NA & NA & NA & NA & NA & NA & NA & NA & NA & NA & NA & NA & 2  & NA & NA & NA & NA & NA & NA & NA & NA & NA & NA & NA & NA & NA & NA & 2  & 2 & NA & 2 &  NA & 2 & NA & 2 &  NA & 2 & NA & 2 & NA & 2 & NA & 2 & NA & 1 & 1 & 1 & 1 &  6 & 2 & 1 & 2  & 1 & 1 & 2 & NA & NA & 2 & 2 & 1 & 1 & 2 & 1 & 1 & 1 & 2 & 2 & 2 & 3 & NA & 600 & NA & 2 & 2 & 2 & 2 & 1 & 2 & 1 & 2 & 1 & 1 & 2 & 2 & 1 & 2 & 2 & 1 & 1 & 2 & 02 & 3 & 2 & 2 & 08 & 3 & 1  & 1  & NA & NA & NA & 3  & 5  & 09 & 03 & 05 & 2  & 3  & 3  & 1  & 2000 & 2000 & 1  & 2000 & 2000 & 2000 & NA & 40 & 40 & 3  & 3  & 2000 &  NA &  NA & 2000 & 4300 & 1433 & 4 & 4300 & 1433 & 4 & 4300 & 1433 & 4 & 4300 & 1433 & 4\\\\\n",
       "\t 2017 & 4 & 11 & 11 & NA & 110000016 & 1110011 & 03 & 06 & 1 & 1 & 508703 & 164.4367 & 196.6503 & 111 & 3 & 03 & 04 & 1 & 10 & 04 & 2011 &  6 & 4 & 1 & 1 & 2  & 04 & 2  & NA & 01 & NA & NA & NA & NA & NA & NA & NA & NA & NA & NA & NA & NA & NA & NA & NA & NA & NA & NA & NA & NA   & NA & NA & NA    & NA & NA & NA & NA & NA & NA & NA & NA & NA & NA & NA & NA & NA & NA & NA & NA & NA & NA & NA & NA & NA & NA & NA & NA & NA & NA & NA & NA & NA & NA & NA & NA & NA &   NA & NA & NA & NA & NA & NA & NA & NA & NA &   NA & NA & NA & NA & NA & NA & NA & NA & NA & NA & NA & NA & NA & NA & NA & NA & NA & NA & NA & NA & NA & NA & NA & NA & NA & NA & NA & NA & NA & NA & NA & NA & NA & NA & NA & NA & NA & NA & NA & NA & NA & NA & NA & NA & NA & NA & NA & NA & NA & NA & NA & NA & NA & NA & NA & NA & NA & NA & NA & NA & NA & NA & NA & NA & NA & NA & NA & NA & NA & NA & NA & NA & NA & NA & NA & NA & NA & 2 & NA & 2 &  NA & 2 & NA & 2 &  NA & 2 & NA & 2 & NA & 2 & NA & 2 & NA & 1 & 1 & 1 & 1 &  6 & 2 & 1 & 2  & 1 & 1 & 2 & NA & NA & 2 & 2 & 1 & 1 & 2 & 1 & 1 & 1 & 2 & 2 & 2 & 3 & NA & 600 & NA & 2 & 2 & 2 & 2 & 1 & 2 & 1 & 2 & 1 & 1 & 2 & 2 & 1 & 2 & 2 & 1 & 1 & 2 & 03 & 3 & 2 & 1 & 00 & 1 & NA & NA & NA & NA & NA & NA & NA & NA & NA & NA & NA & NA & NA & NA &   NA &   NA & NA &   NA &   NA &   NA & NA & NA & NA & NA & NA &   NA &  NA &  NA &   NA & 4300 & 1433 & 4 & 4300 & 1433 & 4 & 4300 & 1433 & 4 & 4300 & 1433 & 4\\\\\n",
       "\t 2017 & 4 & 11 & 11 & NA & 110000016 & 1110011 & 04 & 06 & 1 & 1 & 508703 & 164.4367 & 196.6503 & 111 & 2 & 01 & 01 & 1 & 23 & 10 & 1992 & 24 & 4 & 1 & 1 & 1  & 08 & NA & 1  & 04 & 2  & NA & NA & NA & NA & NA & NA & NA & 2  & 2  & 2  & 2  & 2  & NA & NA & NA & NA & NA & NA & NA   & NA & NA & NA    & NA & NA & NA & NA & NA & NA & NA & NA & NA & NA & NA & NA & NA & NA & NA & NA & NA & NA & NA & NA & NA & NA & NA & NA & NA & NA & NA & NA & NA & NA & NA & NA & NA &   NA & NA & NA & NA & NA & NA & NA & NA & NA &   NA & NA & NA & NA & NA & NA & NA & NA & NA & NA & NA & NA & NA & NA & NA & NA & NA & NA & NA & NA & NA & NA & NA & NA & NA & NA & NA & NA & NA & NA & NA & NA & NA & NA & NA & NA & NA & NA & NA & NA & NA & NA & NA & NA & NA & NA & NA & NA & NA & NA & NA & NA & NA & NA & NA & NA & NA & NA & NA & NA & NA & NA & NA & 1  & 1  & NA & NA & NA & NA & 2  &  3 & NA & NA & 1  & NA & 1  & 2  & 2 & NA & 2 &  NA & 2 & NA & 2 &  NA & 2 & NA & 2 & NA & 2 & NA & 2 & NA & 1 & 1 & 1 & 1 & 11 & 1 & 2 & NA & 1 & 1 & 3 & NA & NA & 2 & 2 & 1 & 1 & 2 & 1 & 1 & 1 & 2 & 2 & 2 & 1 & NA &  NA & 1  & 2 & 2 & 2 & 1 & 1 & 2 & 2 & 2 & 1 & 1 & 2 & 2 & 1 & 2 & 2 & 1 & 2 & 1 & 01 & 2 & 2 & 6 & 13 & 5 & 1  & 2  & NA & NA & NA & NA & NA & NA & NA & NA & NA & NA & NA & NA &   NA &   NA & NA &   NA &   NA &   NA & NA & NA & NA & NA & NA &   NA &  NA &  NA &   NA &  937 &  469 & 2 &  937 &  469 & 2 &  937 &  469 & 2 &  937 &  469 & 2\\\\\n",
       "\t 2017 & 4 & 11 & 11 & NA & 110000016 & 1110011 & 04 & 06 & 1 & 1 & 508703 & 164.4367 & 196.6503 & 111 & 2 & 02 & 02 & 2 & 99 & 99 & 9999 & 22 & 1 & 1 & 2 & NA & NA & NA & NA & NA & NA & 1  & 10 & NA & NA & 1  & 03 & 1  & 2  & 2  & 2  & 2  & 2  & NA & NA & NA & NA & NA & NA & NA   & NA & NA & NA    & NA & NA & NA & NA & NA & NA & NA & NA & NA & NA & NA & NA & NA & NA & NA & NA & NA & NA & NA & NA & NA & NA & NA & NA & NA & NA & NA & NA & NA & NA & NA & NA & NA &   NA & NA & NA & NA & NA & NA & NA & NA & NA &   NA & NA & NA & NA & NA & NA & NA & NA & NA & NA & NA & NA & NA & NA & NA & NA & NA & NA & NA & NA & NA & NA & NA & NA & NA & NA & NA & NA & NA & NA & NA & NA & NA & NA & NA & NA & NA & NA & NA & NA & NA & NA & NA & NA & NA & NA & NA & NA & NA & NA & NA & NA & NA & NA & NA & NA & NA & NA & NA & NA & NA & NA & NA & 2  & NA & 2  & NA & NA & NA & NA & NA & NA & NA & NA & 3  & 2  & 2  & 2 & NA & 2 &  NA & 2 & NA & 1 & 937 & 2 & NA & 2 & NA & 2 & NA & 2 & NA & 1 & 1 & 1 & 1 & 11 & 1 & 2 & NA & 1 & 1 & 3 & NA & NA & 2 & 2 & 1 & 1 & 2 & 1 & 1 & 1 & 2 & 2 & 2 & 1 & NA &  NA & 1  & 2 & 2 & 2 & 1 & 1 & 2 & 2 & 2 & 1 & 1 & 2 & 2 & 1 & 2 & 2 & 1 & 2 & 1 & 02 & 2 & 2 & 5 & 12 & 5 & 2  & NA & 2  & NA & NA & NA & NA & NA & NA & NA & NA & NA & NA & NA &   NA &   NA & NA &   NA &   NA &  937 & 3  & NA & NA & NA & NA &  937 &  NA & 937 &  937 &  937 &  469 & 2 &  937 &  469 & 2 &  937 &  469 & 2 &  937 &  469 & 2\\\\\n",
       "\t 2017 & 4 & 11 & 11 & NA & 110000016 & 1110011 & 05 & 06 & 1 & 1 & 508703 & 164.4367 & 196.6503 & 111 & 4 & 01 & 01 & 1 & 18 & 12 & 1980 & 36 & 4 & 1 & 1 & 1  & 08 & NA & 1  & 10 & 2  & NA & NA & NA & NA & NA & NA & NA & 1  & NA & NA & NA & NA & NA & NA & NA & NA & NA & 1  & 3213 & 4  & NA & 86002 & 2  & 3  & NA & NA & NA & NA & NA & NA & NA & NA & NA & NA & NA & NA & NA & NA & NA & NA & 1  & NA & NA & NA & 2  & NA & NA & 1  & NA & NA & NA & NA & 1  & 1  & 4  & 2000 & NA & NA & NA & NA & NA & 1  & 1  & 4  & 2000 & NA & NA & NA & 1  & NA & 40 & 40 & 4  & NA & NA &  7 & NA & NA & NA & NA & NA & NA & NA & NA & NA & NA & NA & NA & NA & NA & NA & NA & NA & NA & NA & NA & NA & NA & NA & NA & NA & NA & NA & NA & NA & NA & NA & NA & NA & NA & NA & NA & NA & NA & NA & NA & NA & NA & NA & NA & NA & NA & NA & NA & NA & 2  & NA & NA & NA & NA & NA & NA & NA & NA & NA & NA & NA & NA & NA & NA & 1  & 2 & NA & 2 &  NA & 2 & NA & 2 &  NA & 2 & NA & 2 & NA & 2 & NA & 2 & NA & 1 & 1 & 1 & 1 &  5 & 3 & 2 & NA & 1 & 1 & 2 & NA & NA & 2 & 2 & 1 & 1 & 2 & 1 & 1 & 1 & 2 & 2 & 2 & 1 & NA &  NA & 1  & 4 & 1 & 2 & 1 & 1 & 2 & 2 & 1 & 1 & 1 & 1 & 2 & 1 & 2 & 2 & 1 & 1 & 1 & 01 & 4 & 2 & 6 & 16 & 6 & 1  & 1  & NA & NA & NA & 1  & 3  & 07 & 09 & 03 & 1  & 3  & 3  & 1  & 2000 & 2000 & 1  & 2000 & 2000 & 2000 & NA & 40 & 40 & 3  & 3  & 2000 &  NA &  NA & 2000 & 4000 & 1000 & 4 & 4000 & 1000 & 4 & 4000 & 1000 & 4 & 4000 & 1000 & 4\\\\\n",
       "\t 2017 & 4 & 11 & 11 & NA & 110000016 & 1110011 & 05 & 06 & 1 & 1 & 508703 & 164.4367 & 196.6503 & 111 & 4 & 02 & 02 & 2 & 29 & 12 & 1966 & 50 & 4 & 1 & 2 & NA & NA & NA & NA & NA & NA & 1  & 10 & NA & NA & 1  & 03 & 1  & 1  & NA & NA & NA & NA & NA & NA & NA & NA & NA & 1  & 4110 & 4  & NA & 84013 & 2  & 3  & NA & NA & NA & NA & NA & NA & NA & NA & NA & NA & NA & NA & NA & NA & NA & NA & 1  & NA & NA & NA & 2  & NA & NA & 1  & NA & NA & NA & NA & 1  & 1  & 4  & 2000 & NA & NA & NA & NA & NA & 1  & 1  & 4  & 2000 & NA & NA & NA & 1  & NA & 40 & 40 & 4  & NA & NA & 25 & NA & NA & NA & NA & NA & NA & NA & NA & NA & NA & NA & NA & NA & NA & NA & NA & NA & NA & NA & NA & NA & NA & NA & NA & NA & NA & NA & NA & NA & NA & NA & NA & NA & NA & NA & NA & NA & NA & NA & NA & NA & NA & NA & NA & NA & NA & NA & NA & NA & 2  & NA & NA & NA & NA & NA & NA & NA & NA & NA & NA & NA & NA & NA & NA & 1  & 2 & NA & 2 &  NA & 2 & NA & 2 &  NA & 2 & NA & 2 & NA & 2 & NA & 2 & NA & 1 & 1 & 1 & 1 &  5 & 3 & 2 & NA & 1 & 1 & 2 & NA & NA & 2 & 2 & 1 & 1 & 2 & 1 & 1 & 1 & 2 & 2 & 2 & 1 & NA &  NA & 1  & 4 & 1 & 2 & 1 & 1 & 2 & 2 & 1 & 1 & 1 & 1 & 2 & 1 & 2 & 2 & 1 & 1 & 1 & 02 & 4 & 2 & 5 & 12 & 5 & 1  & 1  & NA & NA & NA & 1  & 3  & 07 & 08 & 04 & 1  & 3  & 3  & 1  & 2000 & 2000 & 1  & 2000 & 2000 & 2000 & NA & 40 & 40 & 3  & 3  & 2000 &  NA &  NA & 2000 & 4000 & 1000 & 4 & 4000 & 1000 & 4 & 4000 & 1000 & 4 & 4000 & 1000 & 4\\\\\n",
       "\t 2017 & 4 & 11 & 11 & NA & 110000016 & 1110011 & 05 & 06 & 1 & 1 & 508703 & 164.4367 & 196.6503 & 111 & 4 & 03 & 04 & 1 & 30 & 03 & 1999 & 18 & 1 & 1 & 2 & NA & NA & NA & NA & NA & NA & 1  & 10 & NA & NA & 1  & 03 & 1  & 2  & 2  & 2  & 2  & 2  & NA & NA & NA & NA & NA & NA & NA   & NA & NA & NA    & NA & NA & NA & NA & NA & NA & NA & NA & NA & NA & NA & NA & NA & NA & NA & NA & NA & NA & NA & NA & NA & NA & NA & NA & NA & NA & NA & NA & NA & NA & NA & NA & NA &   NA & NA & NA & NA & NA & NA & NA & NA & NA &   NA & NA & NA & NA & NA & NA & NA & NA & NA & NA & NA & NA & NA & NA & NA & NA & NA & NA & NA & NA & NA & NA & NA & NA & NA & NA & NA & NA & NA & NA & NA & NA & NA & NA & NA & NA & NA & NA & NA & NA & NA & NA & NA & NA & NA & NA & NA & NA & NA & NA & NA & NA & NA & NA & NA & NA & NA & NA & NA & NA & NA & NA & NA & 2  & NA & 2  & NA & NA & NA & NA & NA & NA & NA & NA & 2  & 2  & NA & 2 & NA & 2 &  NA & 2 & NA & 2 &  NA & 2 & NA & 2 & NA & 2 & NA & 2 & NA & 1 & 1 & 1 & 1 &  5 & 3 & 2 & NA & 1 & 1 & 2 & NA & NA & 2 & 2 & 1 & 1 & 2 & 1 & 1 & 1 & 2 & 2 & 2 & 1 & NA &  NA & 1  & 4 & 1 & 2 & 1 & 1 & 2 & 2 & 1 & 1 & 1 & 1 & 2 & 1 & 2 & 2 & 1 & 1 & 1 & 03 & 4 & 2 & 5 & 12 & 5 & 2  & NA & 2  & NA & NA & NA & NA & NA & NA & NA & NA & NA & NA & NA &   NA &   NA & NA &   NA &   NA &   NA & 2  & NA & NA & NA & NA &   NA &  NA &  NA &   NA & 4000 & 1000 & 4 & 4000 & 1000 & 4 & 4000 & 1000 & 4 & 4000 & 1000 & 4\\\\\n",
       "\t 2017 & 4 & 11 & 11 & NA & 110000016 & 1110011 & 05 & 06 & 1 & 1 & 508703 & 164.4367 & 196.6503 & 111 & 4 & 04 & 04 & 1 & 22 & 08 & 2000 & 17 & 4 & 1 & 2 & NA & NA & NA & NA & NA & NA & 1  & 10 & NA & NA & 1  & 03 & 1  & 2  & 2  & 2  & 2  & 2  & NA & NA & NA & NA & NA & NA & NA   & NA & NA & NA    & NA & NA & NA & NA & NA & NA & NA & NA & NA & NA & NA & NA & NA & NA & NA & NA & NA & NA & NA & NA & NA & NA & NA & NA & NA & NA & NA & NA & NA & NA & NA & NA & NA &   NA & NA & NA & NA & NA & NA & NA & NA & NA &   NA & NA & NA & NA & NA & NA & NA & NA & NA & NA & NA & NA & NA & NA & NA & NA & NA & NA & NA & NA & NA & NA & NA & NA & NA & NA & NA & NA & NA & NA & NA & NA & NA & NA & NA & NA & NA & NA & NA & NA & NA & NA & NA & NA & NA & NA & NA & NA & NA & NA & NA & NA & NA & NA & NA & NA & NA & NA & NA & NA & NA & NA & NA & 2  & NA & 2  & NA & NA & NA & NA & NA & NA & NA & NA & 2  & 2  & NA & 2 & NA & 2 &  NA & 2 & NA & 2 &  NA & 2 & NA & 2 & NA & 2 & NA & 2 & NA & 1 & 1 & 1 & 1 &  5 & 3 & 2 & NA & 1 & 1 & 2 & NA & NA & 2 & 2 & 1 & 1 & 2 & 1 & 1 & 1 & 2 & 2 & 2 & 1 & NA &  NA & 1  & 4 & 1 & 2 & 1 & 1 & 2 & 2 & 1 & 1 & 1 & 1 & 2 & 1 & 2 & 2 & 1 & 1 & 1 & 03 & 4 & 2 & 5 & 12 & 5 & 2  & NA & 2  & NA & NA & NA & NA & NA & NA & NA & NA & NA & NA & NA &   NA &   NA & NA &   NA &   NA &   NA & 2  & NA & NA & NA & NA &   NA &  NA &  NA &   NA & 4000 & 1000 & 4 & 4000 & 1000 & 4 & 4000 & 1000 & 4 & 4000 & 1000 & 4\\\\\n",
       "\t 2017 & 4 & 11 & 11 & NA & 110000016 & 1110011 & 06 & 06 & 1 & 1 & 508703 & 164.4367 & 196.6503 & 111 & 4 & 01 & 01 & 2 & 26 & 01 & 1983 & 34 & 4 & 1 & 2 & NA & NA & NA & NA & NA & NA & 1  & 10 & NA & NA & 1  & 03 & 1  & 1  & NA & NA & NA & NA & NA & NA & NA & NA & NA & 1  & 9112 & 3  & NA & 55000 & 2  & NA & 2  & NA & NA & NA & NA & NA & NA & NA & NA & NA & NA & 3  & NA & NA & 20 & NA & 1  & 1  & NA & NA & 1  & NA & NA & NA & 1  & NA & NA & NA & 1  & 1  & 3  & 1400 & NA & NA & NA & NA & NA & 1  & 1  & 3  & 1400 & NA & NA & NA & 2  & 1  & 24 & 24 & 2  &  4 & NA & NA & NA & NA & NA & NA & NA & NA & NA & NA & NA & NA & NA & NA & NA & NA & NA & NA & NA & NA & NA & NA & NA & NA & NA & NA & NA & NA & NA & NA & NA & NA & NA & NA & NA & NA & NA & NA & NA & NA & NA & NA & NA & NA & NA & NA & NA & NA & NA & NA & NA & 2  & NA & NA & NA & NA & NA & NA & NA & NA & NA & NA & NA & NA & NA & NA & 2  & 2 & NA & 1 & 202 & 2 & NA & 2 &  NA & 2 & NA & 2 & NA & 2 & NA & 2 & NA & 1 & 1 & 1 & 1 &  6 & 2 & 1 & 2  & 1 & 1 & 2 & NA & NA & 2 & 2 & 1 & 1 & 2 & 1 & 1 & 1 & 2 & 2 & 2 & 1 & NA &  NA & 1  & 2 & 2 & 2 & 2 & 1 & 2 & 1 & 2 & 1 & 1 & 2 & 2 & 1 & 2 & 2 & 1 & 2 & 1 & 01 & 4 & 2 & 5 & 12 & 5 & 1  & 1  & NA & NA & NA & 1  & 1  & 01 & 06 & 09 & 1  & 2  & 2  & 1  & 1400 & 1400 & 1  & 1400 & 1400 & 1602 & NA & 24 & 24 & 2  & 2  & 1602 & 202 & 202 & 1602 & 1602 &  401 & 2 & 1602 &  401 & 2 & 1602 &  401 & 2 & 1602 &  401 & 2\\\\\n",
       "\\end{tabular}\n"
      ],
      "text/markdown": [
       "\n",
       "A tibble: 12 × 282\n",
       "\n",
       "| Ano &lt;chr&gt; | Trimestre &lt;chr&gt; | UF &lt;chr&gt; | Capital &lt;chr&gt; | RM_RIDE &lt;chr&gt; | UPA &lt;chr&gt; | Estrato &lt;chr&gt; | V1008 &lt;chr&gt; | V1014 &lt;chr&gt; | V1022 &lt;chr&gt; | ... ... | VD5003 &lt;chr&gt; | VD5004 &lt;dbl&gt; | VD5005 &lt;dbl&gt; | VD5006 &lt;chr&gt; | VD5007 &lt;dbl&gt; | VD5008 &lt;dbl&gt; | VD5009 &lt;chr&gt; | VD5010 &lt;dbl&gt; | VD5011 &lt;dbl&gt; | VD5012 &lt;chr&gt; |\n",
       "|---|---|---|---|---|---|---|---|---|---|---|---|---|---|---|---|---|---|---|---|---|\n",
       "| 2017 | 4 | 11 | 11 | NA | 110000016 | 1110011 | 01 | 06 | 1 | ... | 4 | 2750 | 1375 | 4 | 2600 | 1300 | 4 | 2750 | 1375 | 4 |\n",
       "| 2017 | 4 | 11 | 11 | NA | 110000016 | 1110011 | 01 | 06 | 1 | ... | 4 | 2750 | 1375 | 4 | 2600 | 1300 | 4 | 2750 | 1375 | 4 |\n",
       "| 2017 | 4 | 11 | 11 | NA | 110000016 | 1110011 | 03 | 06 | 1 | ... | 4 | 4300 | 1433 | 4 | 4300 | 1433 | 4 | 4300 | 1433 | 4 |\n",
       "| 2017 | 4 | 11 | 11 | NA | 110000016 | 1110011 | 03 | 06 | 1 | ... | 4 | 4300 | 1433 | 4 | 4300 | 1433 | 4 | 4300 | 1433 | 4 |\n",
       "| 2017 | 4 | 11 | 11 | NA | 110000016 | 1110011 | 03 | 06 | 1 | ... | 4 | 4300 | 1433 | 4 | 4300 | 1433 | 4 | 4300 | 1433 | 4 |\n",
       "| 2017 | 4 | 11 | 11 | NA | 110000016 | 1110011 | 04 | 06 | 1 | ... | 2 |  937 |  469 | 2 |  937 |  469 | 2 |  937 |  469 | 2 |\n",
       "| 2017 | 4 | 11 | 11 | NA | 110000016 | 1110011 | 04 | 06 | 1 | ... | 2 |  937 |  469 | 2 |  937 |  469 | 2 |  937 |  469 | 2 |\n",
       "| 2017 | 4 | 11 | 11 | NA | 110000016 | 1110011 | 05 | 06 | 1 | ... | 4 | 4000 | 1000 | 4 | 4000 | 1000 | 4 | 4000 | 1000 | 4 |\n",
       "| 2017 | 4 | 11 | 11 | NA | 110000016 | 1110011 | 05 | 06 | 1 | ... | 4 | 4000 | 1000 | 4 | 4000 | 1000 | 4 | 4000 | 1000 | 4 |\n",
       "| 2017 | 4 | 11 | 11 | NA | 110000016 | 1110011 | 05 | 06 | 1 | ... | 4 | 4000 | 1000 | 4 | 4000 | 1000 | 4 | 4000 | 1000 | 4 |\n",
       "| 2017 | 4 | 11 | 11 | NA | 110000016 | 1110011 | 05 | 06 | 1 | ... | 4 | 4000 | 1000 | 4 | 4000 | 1000 | 4 | 4000 | 1000 | 4 |\n",
       "| 2017 | 4 | 11 | 11 | NA | 110000016 | 1110011 | 06 | 06 | 1 | ... | 2 | 1602 |  401 | 2 | 1602 |  401 | 2 | 1602 |  401 | 2 |\n",
       "\n"
      ],
      "text/plain": [
       "   Ano  Trimestre UF Capital RM_RIDE UPA       Estrato V1008 V1014 V1022 ...\n",
       "1  2017 4         11 11      NA      110000016 1110011 01    06    1     ...\n",
       "2  2017 4         11 11      NA      110000016 1110011 01    06    1     ...\n",
       "3  2017 4         11 11      NA      110000016 1110011 03    06    1     ...\n",
       "4  2017 4         11 11      NA      110000016 1110011 03    06    1     ...\n",
       "5  2017 4         11 11      NA      110000016 1110011 03    06    1     ...\n",
       "6  2017 4         11 11      NA      110000016 1110011 04    06    1     ...\n",
       "7  2017 4         11 11      NA      110000016 1110011 04    06    1     ...\n",
       "8  2017 4         11 11      NA      110000016 1110011 05    06    1     ...\n",
       "9  2017 4         11 11      NA      110000016 1110011 05    06    1     ...\n",
       "10 2017 4         11 11      NA      110000016 1110011 05    06    1     ...\n",
       "11 2017 4         11 11      NA      110000016 1110011 05    06    1     ...\n",
       "12 2017 4         11 11      NA      110000016 1110011 06    06    1     ...\n",
       "   VD5003 VD5004 VD5005 VD5006 VD5007 VD5008 VD5009 VD5010 VD5011 VD5012\n",
       "1  4      2750   1375   4      2600   1300   4      2750   1375   4     \n",
       "2  4      2750   1375   4      2600   1300   4      2750   1375   4     \n",
       "3  4      4300   1433   4      4300   1433   4      4300   1433   4     \n",
       "4  4      4300   1433   4      4300   1433   4      4300   1433   4     \n",
       "5  4      4300   1433   4      4300   1433   4      4300   1433   4     \n",
       "6  2       937    469   2       937    469   2       937    469   2     \n",
       "7  2       937    469   2       937    469   2       937    469   2     \n",
       "8  4      4000   1000   4      4000   1000   4      4000   1000   4     \n",
       "9  4      4000   1000   4      4000   1000   4      4000   1000   4     \n",
       "10 4      4000   1000   4      4000   1000   4      4000   1000   4     \n",
       "11 4      4000   1000   4      4000   1000   4      4000   1000   4     \n",
       "12 2      1602    401   2      1602    401   2      1602    401   2     "
      ]
     },
     "metadata": {},
     "output_type": "display_data"
    }
   ],
   "source": [
    "head(data_pnadc, n = 12)"
   ]
  },
  {
   "cell_type": "code",
   "execution_count": 206,
   "metadata": {},
   "outputs": [
    {
     "data": {
      "text/html": [
       "'list'"
      ],
      "text/latex": [
       "'list'"
      ],
      "text/markdown": [
       "'list'"
      ],
      "text/plain": [
       "[1] \"list\""
      ]
     },
     "metadata": {},
     "output_type": "display_data"
    }
   ],
   "source": [
    "typeof(data_pnadc)"
   ]
  },
  {
   "cell_type": "code",
   "execution_count": 207,
   "metadata": {},
   "outputs": [
    {
     "data": {
      "text/html": [
       "<ol class=list-inline>\n",
       "\t<li>'spec_tbl_df'</li>\n",
       "\t<li>'tbl_df'</li>\n",
       "\t<li>'tbl'</li>\n",
       "\t<li>'data.frame'</li>\n",
       "</ol>\n"
      ],
      "text/latex": [
       "\\begin{enumerate*}\n",
       "\\item 'spec\\_tbl\\_df'\n",
       "\\item 'tbl\\_df'\n",
       "\\item 'tbl'\n",
       "\\item 'data.frame'\n",
       "\\end{enumerate*}\n"
      ],
      "text/markdown": [
       "1. 'spec_tbl_df'\n",
       "2. 'tbl_df'\n",
       "3. 'tbl'\n",
       "4. 'data.frame'\n",
       "\n",
       "\n"
      ],
      "text/plain": [
       "[1] \"spec_tbl_df\" \"tbl_df\"      \"tbl\"         \"data.frame\" "
      ]
     },
     "metadata": {},
     "output_type": "display_data"
    }
   ],
   "source": [
    "class(data_pnadc)"
   ]
  },
  {
   "cell_type": "code",
   "execution_count": 208,
   "metadata": {},
   "outputs": [],
   "source": [
    "write.table(data_pnadc , file = \"data_pnadc.csv\")"
   ]
  },
  {
   "cell_type": "code",
   "execution_count": null,
   "metadata": {},
   "outputs": [],
   "source": []
  },
  {
   "cell_type": "code",
   "execution_count": 155,
   "metadata": {},
   "outputs": [],
   "source": [
    "# db <- read_pnadc(\"PNADC_2017_visita1.txt\", \"Input_PNADC_1_visita_2017_20191016.txt\")"
   ]
  },
  {
   "cell_type": "code",
   "execution_count": 89,
   "metadata": {},
   "outputs": [],
   "source": [
    "#readr::read_fwf(\"PNADC_2017_visita1.txt\", col)\n",
    "my_data <- read.delim(\"PNADC_2017_visita1.txt\")"
   ]
  },
  {
   "cell_type": "code",
   "execution_count": 91,
   "metadata": {},
   "outputs": [
    {
     "data": {
      "text/html": [
       "<table>\n",
       "<caption>A data.frame: 1 × 1</caption>\n",
       "<thead>\n",
       "\t<tr><th scope=col>X201741111..1100000161110011010611000508703000164.43670237000196.65028999111020101225031966051412........1071.10721............191111.970002.........................1....2..111300001200............11300001200..........1.0240244....11........................................................................................................................2...................22........2........2........2........2........2........2........2........11110602121101...221121112221................1022221121111212212101022208311...12041109122100001200000012001000012000000120000001200.0240242200001200................0000120000002600000013004000027500000137540000260000001300400002750000013754</th></tr>\n",
       "\t<tr><th scope=col>&lt;fct&gt;</th></tr>\n",
       "</thead>\n",
       "<tbody>\n",
       "\t<tr><td>201741111  1100000161110011010611000508703000164.43670237000196.65028999111020205124051995022411110              1            123513 850142 2             3   28 11  2   1   11300001400            11300001400          1 040040209                                                                                                                            2                   22        2        2        2        2        2        2        2        11110602121101   221121112221                1022221121111212212103022716611   11010902133100001400000014001000014000000140000001400 0400403300001400                0000155000002600000013004000027500000137540000260000001300400002750000013754</td></tr>\n",
       "</tbody>\n",
       "</table>\n"
      ],
      "text/latex": [
       "A data.frame: 1 × 1\n",
       "\\begin{tabular}{r|l}\n",
       " X201741111..1100000161110011010611000508703000164.43670237000196.65028999111020101225031966051412........1071.10721............191111.970002.........................1....2..111300001200............11300001200..........1.0240244....11........................................................................................................................2...................22........2........2........2........2........2........2........2........11110602121101...221121112221................1022221121111212212101022208311...12041109122100001200000012001000012000000120000001200.0240242200001200................0000120000002600000013004000027500000137540000260000001300400002750000013754\\\\\n",
       " <fct>\\\\\n",
       "\\hline\n",
       "\t 201741111  1100000161110011010611000508703000164.43670237000196.65028999111020205124051995022411110              1            123513 850142 2             3   28 11  2   1   11300001400            11300001400          1 040040209                                                                                                                            2                   22        2        2        2        2        2        2        2        11110602121101   221121112221                1022221121111212212103022716611   11010902133100001400000014001000014000000140000001400 0400403300001400                0000155000002600000013004000027500000137540000260000001300400002750000013754\\\\\n",
       "\\end{tabular}\n"
      ],
      "text/markdown": [
       "\n",
       "A data.frame: 1 × 1\n",
       "\n",
       "| X201741111..1100000161110011010611000508703000164.43670237000196.65028999111020101225031966051412........1071.10721............191111.970002.........................1....2..111300001200............11300001200..........1.0240244....11........................................................................................................................2...................22........2........2........2........2........2........2........2........11110602121101...221121112221................1022221121111212212101022208311...12041109122100001200000012001000012000000120000001200.0240242200001200................0000120000002600000013004000027500000137540000260000001300400002750000013754 &lt;fct&gt; |\n",
       "|---|\n",
       "| 201741111  1100000161110011010611000508703000164.43670237000196.65028999111020205124051995022411110              1            123513 850142 2             3   28 11  2   1   11300001400            11300001400          1 040040209                                                                                                                            2                   22        2        2        2        2        2        2        2        11110602121101   221121112221                1022221121111212212103022716611   11010902133100001400000014001000014000000140000001400 0400403300001400                0000155000002600000013004000027500000137540000260000001300400002750000013754 |\n",
       "\n"
      ],
      "text/plain": [
       "  X201741111..1100000161110011010611000508703000164.43670237000196.65028999111020101225031966051412........1071.10721............191111.970002.........................1....2..111300001200............11300001200..........1.0240244....11........................................................................................................................2...................22........2........2........2........2........2........2........2........11110602121101...221121112221................1022221121111212212101022208311...12041109122100001200000012001000012000000120000001200.0240242200001200................0000120000002600000013004000027500000137540000260000001300400002750000013754\n",
       "1 201741111  1100000161110011010611000508703000164.43670237000196.65028999111020205124051995022411110              1            123513 850142 2             3   28 11  2   1   11300001400            11300001400          1 040040209                                                                                                                            2                   22        2        2        2        2        2        2        2        11110602121101   221121112221                1022221121111212212103022716611   11010902133100001400000014001000014000000140000001400 0400403300001400                0000155000002600000013004000027500000137540000260000001300400002750000013754 "
      ]
     },
     "metadata": {},
     "output_type": "display_data"
    }
   ],
   "source": [
    "head(my_data, n = 1)"
   ]
  },
  {
   "cell_type": "code",
   "execution_count": null,
   "metadata": {},
   "outputs": [],
   "source": []
  }
 ],
 "metadata": {
  "kernelspec": {
   "display_name": "R",
   "language": "R",
   "name": "ir"
  },
  "language_info": {
   "codemirror_mode": "r",
   "file_extension": ".r",
   "mimetype": "text/x-r-source",
   "name": "R",
   "pygments_lexer": "r",
   "version": "3.6.0"
  }
 },
 "nbformat": 4,
 "nbformat_minor": 2
}
